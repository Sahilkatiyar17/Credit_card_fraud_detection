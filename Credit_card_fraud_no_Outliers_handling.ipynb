{
  "nbformat": 4,
  "nbformat_minor": 0,
  "metadata": {
    "colab": {
      "provenance": []
    },
    "kernelspec": {
      "name": "python3",
      "display_name": "Python 3"
    },
    "language_info": {
      "name": "python"
    }
  },
  "cells": [
    {
      "cell_type": "code",
      "execution_count": null,
      "metadata": {
        "id": "MWLeVoIhs71t"
      },
      "outputs": [],
      "source": [
        "from sklearn.model_selection import train_test_split\n",
        "import pandas as pd\n",
        "import numpy as np\n",
        "import matplotlib.pyplot as plt\n",
        "import seaborn as sns\n",
        "from sklearn.decomposition import PCA\n",
        "from sklearn.preprocessing import StandardScaler\n",
        "from imblearn.over_sampling import SMOTE\n",
        "from sklearn.model_selection import cross_val_score\n",
        "from sklearn.linear_model import LogisticRegression\n",
        "from sklearn.svm import SVC\n",
        "from sklearn.tree import DecisionTreeClassifier\n",
        "from sklearn.ensemble import RandomForestClassifier, AdaBoostClassifier, GradientBoostingClassifier\n",
        "from sklearn.neural_network import MLPClassifier\n",
        "from sklearn.metrics import accuracy_score\n",
        "import xgboost as xgb"
      ]
    },
    {
      "cell_type": "code",
      "source": [
        "df = pd.read_csv(\"/content/creditcard.csv\")\n",
        "df.tail(5)"
      ],
      "metadata": {
        "colab": {
          "base_uri": "https://localhost:8080/",
          "height": 255
        },
        "id": "Ec1PtblWtF_h",
        "outputId": "242d5ab6-95e0-4699-e6fa-30c2a20cb0f4"
      },
      "execution_count": null,
      "outputs": [
        {
          "output_type": "execute_result",
          "data": {
            "text/plain": [
              "            Time         V1         V2        V3        V4        V5  \\\n",
              "284802  172786.0 -11.881118  10.071785 -9.834783 -2.066656 -5.364473   \n",
              "284803  172787.0  -0.732789  -0.055080  2.035030 -0.738589  0.868229   \n",
              "284804  172788.0   1.919565  -0.301254 -3.249640 -0.557828  2.630515   \n",
              "284805  172788.0  -0.240440   0.530483  0.702510  0.689799 -0.377961   \n",
              "284806  172792.0  -0.533413  -0.189733  0.703337 -0.506271 -0.012546   \n",
              "\n",
              "              V6        V7        V8        V9  ...       V21       V22  \\\n",
              "284802 -2.606837 -4.918215  7.305334  1.914428  ...  0.213454  0.111864   \n",
              "284803  1.058415  0.024330  0.294869  0.584800  ...  0.214205  0.924384   \n",
              "284804  3.031260 -0.296827  0.708417  0.432454  ...  0.232045  0.578229   \n",
              "284805  0.623708 -0.686180  0.679145  0.392087  ...  0.265245  0.800049   \n",
              "284806 -0.649617  1.577006 -0.414650  0.486180  ...  0.261057  0.643078   \n",
              "\n",
              "             V23       V24       V25       V26       V27       V28  Amount  \\\n",
              "284802  1.014480 -0.509348  1.436807  0.250034  0.943651  0.823731    0.77   \n",
              "284803  0.012463 -1.016226 -0.606624 -0.395255  0.068472 -0.053527   24.79   \n",
              "284804 -0.037501  0.640134  0.265745 -0.087371  0.004455 -0.026561   67.88   \n",
              "284805 -0.163298  0.123205 -0.569159  0.546668  0.108821  0.104533   10.00   \n",
              "284806  0.376777  0.008797 -0.473649 -0.818267 -0.002415  0.013649  217.00   \n",
              "\n",
              "        Class  \n",
              "284802      0  \n",
              "284803      0  \n",
              "284804      0  \n",
              "284805      0  \n",
              "284806      0  \n",
              "\n",
              "[5 rows x 31 columns]"
            ],
            "text/html": [
              "\n",
              "  <div id=\"df-d7ba6cce-1e88-4809-9ffe-6f0ce2de2064\" class=\"colab-df-container\">\n",
              "    <div>\n",
              "<style scoped>\n",
              "    .dataframe tbody tr th:only-of-type {\n",
              "        vertical-align: middle;\n",
              "    }\n",
              "\n",
              "    .dataframe tbody tr th {\n",
              "        vertical-align: top;\n",
              "    }\n",
              "\n",
              "    .dataframe thead th {\n",
              "        text-align: right;\n",
              "    }\n",
              "</style>\n",
              "<table border=\"1\" class=\"dataframe\">\n",
              "  <thead>\n",
              "    <tr style=\"text-align: right;\">\n",
              "      <th></th>\n",
              "      <th>Time</th>\n",
              "      <th>V1</th>\n",
              "      <th>V2</th>\n",
              "      <th>V3</th>\n",
              "      <th>V4</th>\n",
              "      <th>V5</th>\n",
              "      <th>V6</th>\n",
              "      <th>V7</th>\n",
              "      <th>V8</th>\n",
              "      <th>V9</th>\n",
              "      <th>...</th>\n",
              "      <th>V21</th>\n",
              "      <th>V22</th>\n",
              "      <th>V23</th>\n",
              "      <th>V24</th>\n",
              "      <th>V25</th>\n",
              "      <th>V26</th>\n",
              "      <th>V27</th>\n",
              "      <th>V28</th>\n",
              "      <th>Amount</th>\n",
              "      <th>Class</th>\n",
              "    </tr>\n",
              "  </thead>\n",
              "  <tbody>\n",
              "    <tr>\n",
              "      <th>284802</th>\n",
              "      <td>172786.0</td>\n",
              "      <td>-11.881118</td>\n",
              "      <td>10.071785</td>\n",
              "      <td>-9.834783</td>\n",
              "      <td>-2.066656</td>\n",
              "      <td>-5.364473</td>\n",
              "      <td>-2.606837</td>\n",
              "      <td>-4.918215</td>\n",
              "      <td>7.305334</td>\n",
              "      <td>1.914428</td>\n",
              "      <td>...</td>\n",
              "      <td>0.213454</td>\n",
              "      <td>0.111864</td>\n",
              "      <td>1.014480</td>\n",
              "      <td>-0.509348</td>\n",
              "      <td>1.436807</td>\n",
              "      <td>0.250034</td>\n",
              "      <td>0.943651</td>\n",
              "      <td>0.823731</td>\n",
              "      <td>0.77</td>\n",
              "      <td>0</td>\n",
              "    </tr>\n",
              "    <tr>\n",
              "      <th>284803</th>\n",
              "      <td>172787.0</td>\n",
              "      <td>-0.732789</td>\n",
              "      <td>-0.055080</td>\n",
              "      <td>2.035030</td>\n",
              "      <td>-0.738589</td>\n",
              "      <td>0.868229</td>\n",
              "      <td>1.058415</td>\n",
              "      <td>0.024330</td>\n",
              "      <td>0.294869</td>\n",
              "      <td>0.584800</td>\n",
              "      <td>...</td>\n",
              "      <td>0.214205</td>\n",
              "      <td>0.924384</td>\n",
              "      <td>0.012463</td>\n",
              "      <td>-1.016226</td>\n",
              "      <td>-0.606624</td>\n",
              "      <td>-0.395255</td>\n",
              "      <td>0.068472</td>\n",
              "      <td>-0.053527</td>\n",
              "      <td>24.79</td>\n",
              "      <td>0</td>\n",
              "    </tr>\n",
              "    <tr>\n",
              "      <th>284804</th>\n",
              "      <td>172788.0</td>\n",
              "      <td>1.919565</td>\n",
              "      <td>-0.301254</td>\n",
              "      <td>-3.249640</td>\n",
              "      <td>-0.557828</td>\n",
              "      <td>2.630515</td>\n",
              "      <td>3.031260</td>\n",
              "      <td>-0.296827</td>\n",
              "      <td>0.708417</td>\n",
              "      <td>0.432454</td>\n",
              "      <td>...</td>\n",
              "      <td>0.232045</td>\n",
              "      <td>0.578229</td>\n",
              "      <td>-0.037501</td>\n",
              "      <td>0.640134</td>\n",
              "      <td>0.265745</td>\n",
              "      <td>-0.087371</td>\n",
              "      <td>0.004455</td>\n",
              "      <td>-0.026561</td>\n",
              "      <td>67.88</td>\n",
              "      <td>0</td>\n",
              "    </tr>\n",
              "    <tr>\n",
              "      <th>284805</th>\n",
              "      <td>172788.0</td>\n",
              "      <td>-0.240440</td>\n",
              "      <td>0.530483</td>\n",
              "      <td>0.702510</td>\n",
              "      <td>0.689799</td>\n",
              "      <td>-0.377961</td>\n",
              "      <td>0.623708</td>\n",
              "      <td>-0.686180</td>\n",
              "      <td>0.679145</td>\n",
              "      <td>0.392087</td>\n",
              "      <td>...</td>\n",
              "      <td>0.265245</td>\n",
              "      <td>0.800049</td>\n",
              "      <td>-0.163298</td>\n",
              "      <td>0.123205</td>\n",
              "      <td>-0.569159</td>\n",
              "      <td>0.546668</td>\n",
              "      <td>0.108821</td>\n",
              "      <td>0.104533</td>\n",
              "      <td>10.00</td>\n",
              "      <td>0</td>\n",
              "    </tr>\n",
              "    <tr>\n",
              "      <th>284806</th>\n",
              "      <td>172792.0</td>\n",
              "      <td>-0.533413</td>\n",
              "      <td>-0.189733</td>\n",
              "      <td>0.703337</td>\n",
              "      <td>-0.506271</td>\n",
              "      <td>-0.012546</td>\n",
              "      <td>-0.649617</td>\n",
              "      <td>1.577006</td>\n",
              "      <td>-0.414650</td>\n",
              "      <td>0.486180</td>\n",
              "      <td>...</td>\n",
              "      <td>0.261057</td>\n",
              "      <td>0.643078</td>\n",
              "      <td>0.376777</td>\n",
              "      <td>0.008797</td>\n",
              "      <td>-0.473649</td>\n",
              "      <td>-0.818267</td>\n",
              "      <td>-0.002415</td>\n",
              "      <td>0.013649</td>\n",
              "      <td>217.00</td>\n",
              "      <td>0</td>\n",
              "    </tr>\n",
              "  </tbody>\n",
              "</table>\n",
              "<p>5 rows × 31 columns</p>\n",
              "</div>\n",
              "    <div class=\"colab-df-buttons\">\n",
              "\n",
              "  <div class=\"colab-df-container\">\n",
              "    <button class=\"colab-df-convert\" onclick=\"convertToInteractive('df-d7ba6cce-1e88-4809-9ffe-6f0ce2de2064')\"\n",
              "            title=\"Convert this dataframe to an interactive table.\"\n",
              "            style=\"display:none;\">\n",
              "\n",
              "  <svg xmlns=\"http://www.w3.org/2000/svg\" height=\"24px\" viewBox=\"0 -960 960 960\">\n",
              "    <path d=\"M120-120v-720h720v720H120Zm60-500h600v-160H180v160Zm220 220h160v-160H400v160Zm0 220h160v-160H400v160ZM180-400h160v-160H180v160Zm440 0h160v-160H620v160ZM180-180h160v-160H180v160Zm440 0h160v-160H620v160Z\"/>\n",
              "  </svg>\n",
              "    </button>\n",
              "\n",
              "  <style>\n",
              "    .colab-df-container {\n",
              "      display:flex;\n",
              "      gap: 12px;\n",
              "    }\n",
              "\n",
              "    .colab-df-convert {\n",
              "      background-color: #E8F0FE;\n",
              "      border: none;\n",
              "      border-radius: 50%;\n",
              "      cursor: pointer;\n",
              "      display: none;\n",
              "      fill: #1967D2;\n",
              "      height: 32px;\n",
              "      padding: 0 0 0 0;\n",
              "      width: 32px;\n",
              "    }\n",
              "\n",
              "    .colab-df-convert:hover {\n",
              "      background-color: #E2EBFA;\n",
              "      box-shadow: 0px 1px 2px rgba(60, 64, 67, 0.3), 0px 1px 3px 1px rgba(60, 64, 67, 0.15);\n",
              "      fill: #174EA6;\n",
              "    }\n",
              "\n",
              "    .colab-df-buttons div {\n",
              "      margin-bottom: 4px;\n",
              "    }\n",
              "\n",
              "    [theme=dark] .colab-df-convert {\n",
              "      background-color: #3B4455;\n",
              "      fill: #D2E3FC;\n",
              "    }\n",
              "\n",
              "    [theme=dark] .colab-df-convert:hover {\n",
              "      background-color: #434B5C;\n",
              "      box-shadow: 0px 1px 3px 1px rgba(0, 0, 0, 0.15);\n",
              "      filter: drop-shadow(0px 1px 2px rgba(0, 0, 0, 0.3));\n",
              "      fill: #FFFFFF;\n",
              "    }\n",
              "  </style>\n",
              "\n",
              "    <script>\n",
              "      const buttonEl =\n",
              "        document.querySelector('#df-d7ba6cce-1e88-4809-9ffe-6f0ce2de2064 button.colab-df-convert');\n",
              "      buttonEl.style.display =\n",
              "        google.colab.kernel.accessAllowed ? 'block' : 'none';\n",
              "\n",
              "      async function convertToInteractive(key) {\n",
              "        const element = document.querySelector('#df-d7ba6cce-1e88-4809-9ffe-6f0ce2de2064');\n",
              "        const dataTable =\n",
              "          await google.colab.kernel.invokeFunction('convertToInteractive',\n",
              "                                                    [key], {});\n",
              "        if (!dataTable) return;\n",
              "\n",
              "        const docLinkHtml = 'Like what you see? Visit the ' +\n",
              "          '<a target=\"_blank\" href=https://colab.research.google.com/notebooks/data_table.ipynb>data table notebook</a>'\n",
              "          + ' to learn more about interactive tables.';\n",
              "        element.innerHTML = '';\n",
              "        dataTable['output_type'] = 'display_data';\n",
              "        await google.colab.output.renderOutput(dataTable, element);\n",
              "        const docLink = document.createElement('div');\n",
              "        docLink.innerHTML = docLinkHtml;\n",
              "        element.appendChild(docLink);\n",
              "      }\n",
              "    </script>\n",
              "  </div>\n",
              "\n",
              "\n",
              "    <div id=\"df-f9573c7c-aef3-4221-b388-10e80655afb0\">\n",
              "      <button class=\"colab-df-quickchart\" onclick=\"quickchart('df-f9573c7c-aef3-4221-b388-10e80655afb0')\"\n",
              "                title=\"Suggest charts\"\n",
              "                style=\"display:none;\">\n",
              "\n",
              "<svg xmlns=\"http://www.w3.org/2000/svg\" height=\"24px\"viewBox=\"0 0 24 24\"\n",
              "     width=\"24px\">\n",
              "    <g>\n",
              "        <path d=\"M19 3H5c-1.1 0-2 .9-2 2v14c0 1.1.9 2 2 2h14c1.1 0 2-.9 2-2V5c0-1.1-.9-2-2-2zM9 17H7v-7h2v7zm4 0h-2V7h2v10zm4 0h-2v-4h2v4z\"/>\n",
              "    </g>\n",
              "</svg>\n",
              "      </button>\n",
              "\n",
              "<style>\n",
              "  .colab-df-quickchart {\n",
              "      --bg-color: #E8F0FE;\n",
              "      --fill-color: #1967D2;\n",
              "      --hover-bg-color: #E2EBFA;\n",
              "      --hover-fill-color: #174EA6;\n",
              "      --disabled-fill-color: #AAA;\n",
              "      --disabled-bg-color: #DDD;\n",
              "  }\n",
              "\n",
              "  [theme=dark] .colab-df-quickchart {\n",
              "      --bg-color: #3B4455;\n",
              "      --fill-color: #D2E3FC;\n",
              "      --hover-bg-color: #434B5C;\n",
              "      --hover-fill-color: #FFFFFF;\n",
              "      --disabled-bg-color: #3B4455;\n",
              "      --disabled-fill-color: #666;\n",
              "  }\n",
              "\n",
              "  .colab-df-quickchart {\n",
              "    background-color: var(--bg-color);\n",
              "    border: none;\n",
              "    border-radius: 50%;\n",
              "    cursor: pointer;\n",
              "    display: none;\n",
              "    fill: var(--fill-color);\n",
              "    height: 32px;\n",
              "    padding: 0;\n",
              "    width: 32px;\n",
              "  }\n",
              "\n",
              "  .colab-df-quickchart:hover {\n",
              "    background-color: var(--hover-bg-color);\n",
              "    box-shadow: 0 1px 2px rgba(60, 64, 67, 0.3), 0 1px 3px 1px rgba(60, 64, 67, 0.15);\n",
              "    fill: var(--button-hover-fill-color);\n",
              "  }\n",
              "\n",
              "  .colab-df-quickchart-complete:disabled,\n",
              "  .colab-df-quickchart-complete:disabled:hover {\n",
              "    background-color: var(--disabled-bg-color);\n",
              "    fill: var(--disabled-fill-color);\n",
              "    box-shadow: none;\n",
              "  }\n",
              "\n",
              "  .colab-df-spinner {\n",
              "    border: 2px solid var(--fill-color);\n",
              "    border-color: transparent;\n",
              "    border-bottom-color: var(--fill-color);\n",
              "    animation:\n",
              "      spin 1s steps(1) infinite;\n",
              "  }\n",
              "\n",
              "  @keyframes spin {\n",
              "    0% {\n",
              "      border-color: transparent;\n",
              "      border-bottom-color: var(--fill-color);\n",
              "      border-left-color: var(--fill-color);\n",
              "    }\n",
              "    20% {\n",
              "      border-color: transparent;\n",
              "      border-left-color: var(--fill-color);\n",
              "      border-top-color: var(--fill-color);\n",
              "    }\n",
              "    30% {\n",
              "      border-color: transparent;\n",
              "      border-left-color: var(--fill-color);\n",
              "      border-top-color: var(--fill-color);\n",
              "      border-right-color: var(--fill-color);\n",
              "    }\n",
              "    40% {\n",
              "      border-color: transparent;\n",
              "      border-right-color: var(--fill-color);\n",
              "      border-top-color: var(--fill-color);\n",
              "    }\n",
              "    60% {\n",
              "      border-color: transparent;\n",
              "      border-right-color: var(--fill-color);\n",
              "    }\n",
              "    80% {\n",
              "      border-color: transparent;\n",
              "      border-right-color: var(--fill-color);\n",
              "      border-bottom-color: var(--fill-color);\n",
              "    }\n",
              "    90% {\n",
              "      border-color: transparent;\n",
              "      border-bottom-color: var(--fill-color);\n",
              "    }\n",
              "  }\n",
              "</style>\n",
              "\n",
              "      <script>\n",
              "        async function quickchart(key) {\n",
              "          const quickchartButtonEl =\n",
              "            document.querySelector('#' + key + ' button');\n",
              "          quickchartButtonEl.disabled = true;  // To prevent multiple clicks.\n",
              "          quickchartButtonEl.classList.add('colab-df-spinner');\n",
              "          try {\n",
              "            const charts = await google.colab.kernel.invokeFunction(\n",
              "                'suggestCharts', [key], {});\n",
              "          } catch (error) {\n",
              "            console.error('Error during call to suggestCharts:', error);\n",
              "          }\n",
              "          quickchartButtonEl.classList.remove('colab-df-spinner');\n",
              "          quickchartButtonEl.classList.add('colab-df-quickchart-complete');\n",
              "        }\n",
              "        (() => {\n",
              "          let quickchartButtonEl =\n",
              "            document.querySelector('#df-f9573c7c-aef3-4221-b388-10e80655afb0 button');\n",
              "          quickchartButtonEl.style.display =\n",
              "            google.colab.kernel.accessAllowed ? 'block' : 'none';\n",
              "        })();\n",
              "      </script>\n",
              "    </div>\n",
              "\n",
              "    </div>\n",
              "  </div>\n"
            ],
            "application/vnd.google.colaboratory.intrinsic+json": {
              "type": "dataframe"
            }
          },
          "metadata": {},
          "execution_count": 2
        }
      ]
    },
    {
      "cell_type": "code",
      "source": [
        "df.shape"
      ],
      "metadata": {
        "colab": {
          "base_uri": "https://localhost:8080/"
        },
        "id": "2SFI_9ohuA08",
        "outputId": "823e043c-6def-49a9-a869-4989bdd2fda3"
      },
      "execution_count": null,
      "outputs": [
        {
          "output_type": "execute_result",
          "data": {
            "text/plain": [
              "(284807, 31)"
            ]
          },
          "metadata": {},
          "execution_count": 3
        }
      ]
    },
    {
      "cell_type": "code",
      "source": [
        "df.info()"
      ],
      "metadata": {
        "colab": {
          "base_uri": "https://localhost:8080/"
        },
        "id": "_2yUKHFTuFsZ",
        "outputId": "c2baee3e-eae1-4748-e760-62d66b21d26f"
      },
      "execution_count": null,
      "outputs": [
        {
          "output_type": "stream",
          "name": "stdout",
          "text": [
            "<class 'pandas.core.frame.DataFrame'>\n",
            "RangeIndex: 284807 entries, 0 to 284806\n",
            "Data columns (total 31 columns):\n",
            " #   Column  Non-Null Count   Dtype  \n",
            "---  ------  --------------   -----  \n",
            " 0   Time    284807 non-null  float64\n",
            " 1   V1      284807 non-null  float64\n",
            " 2   V2      284807 non-null  float64\n",
            " 3   V3      284807 non-null  float64\n",
            " 4   V4      284807 non-null  float64\n",
            " 5   V5      284807 non-null  float64\n",
            " 6   V6      284807 non-null  float64\n",
            " 7   V7      284807 non-null  float64\n",
            " 8   V8      284807 non-null  float64\n",
            " 9   V9      284807 non-null  float64\n",
            " 10  V10     284807 non-null  float64\n",
            " 11  V11     284807 non-null  float64\n",
            " 12  V12     284807 non-null  float64\n",
            " 13  V13     284807 non-null  float64\n",
            " 14  V14     284807 non-null  float64\n",
            " 15  V15     284807 non-null  float64\n",
            " 16  V16     284807 non-null  float64\n",
            " 17  V17     284807 non-null  float64\n",
            " 18  V18     284807 non-null  float64\n",
            " 19  V19     284807 non-null  float64\n",
            " 20  V20     284807 non-null  float64\n",
            " 21  V21     284807 non-null  float64\n",
            " 22  V22     284807 non-null  float64\n",
            " 23  V23     284807 non-null  float64\n",
            " 24  V24     284807 non-null  float64\n",
            " 25  V25     284807 non-null  float64\n",
            " 26  V26     284807 non-null  float64\n",
            " 27  V27     284807 non-null  float64\n",
            " 28  V28     284807 non-null  float64\n",
            " 29  Amount  284807 non-null  float64\n",
            " 30  Class   284807 non-null  int64  \n",
            "dtypes: float64(30), int64(1)\n",
            "memory usage: 67.4 MB\n"
          ]
        }
      ]
    },
    {
      "cell_type": "code",
      "source": [
        "df.duplicated().sum()\n"
      ],
      "metadata": {
        "colab": {
          "base_uri": "https://localhost:8080/"
        },
        "id": "nMmj-K9SuIgV",
        "outputId": "6ebef95e-985e-431d-ddfd-886f14a1ae1d"
      },
      "execution_count": null,
      "outputs": [
        {
          "output_type": "execute_result",
          "data": {
            "text/plain": [
              "np.int64(1081)"
            ]
          },
          "metadata": {},
          "execution_count": 5
        }
      ]
    },
    {
      "cell_type": "code",
      "source": [
        "df.drop_duplicates(inplace=True)\n",
        "print(f\"Shape after removing duplicates: {df.shape}\")"
      ],
      "metadata": {
        "colab": {
          "base_uri": "https://localhost:8080/"
        },
        "id": "S-aSFAUp0JIN",
        "outputId": "a94bff6a-0f02-4577-dded-0d34cc5f028c"
      },
      "execution_count": null,
      "outputs": [
        {
          "output_type": "stream",
          "name": "stdout",
          "text": [
            "Shape after removing duplicates: (283726, 31)\n"
          ]
        }
      ]
    },
    {
      "cell_type": "code",
      "source": [
        "df.duplicated().sum()"
      ],
      "metadata": {
        "colab": {
          "base_uri": "https://localhost:8080/"
        },
        "id": "hzZVEzcO0OOL",
        "outputId": "ad19659f-05d4-4ba5-aa76-447e7699ca19"
      },
      "execution_count": null,
      "outputs": [
        {
          "output_type": "execute_result",
          "data": {
            "text/plain": [
              "np.int64(0)"
            ]
          },
          "metadata": {},
          "execution_count": 7
        }
      ]
    },
    {
      "cell_type": "markdown",
      "source": [
        "We split the data into the train and test, Now we will work on the Train dataset."
      ],
      "metadata": {
        "id": "8fThMgaL0YNw"
      }
    },
    {
      "cell_type": "code",
      "source": [
        "\n",
        "'''\n",
        "# Separate features and target\n",
        "X = df.drop('Class', axis=1)\n",
        "y = df['Class']\n",
        "\n",
        "# Downsample to 100,000 rows while keeping class ratio\n",
        "X_reduced, _, y_reduced, _ = train_test_split(\n",
        "    X, y,\n",
        "    train_size=100000,\n",
        "    stratify=y,\n",
        "    random_state=42\n",
        ")\n",
        "\n",
        "# Combine back into one DataFrame\n",
        "reduced_df = X_reduced.copy()\n",
        "reduced_df['Class'] = y_reduced\n",
        "'''\n"
      ],
      "metadata": {
        "id": "BHWLPLHg2kCR"
      },
      "execution_count": null,
      "outputs": []
    },
    {
      "cell_type": "code",
      "source": [
        "reduced_df.shape"
      ],
      "metadata": {
        "colab": {
          "base_uri": "https://localhost:8080/"
        },
        "id": "6r6NzLQr0X3V",
        "outputId": "7c430539-73ef-41c8-90aa-b1e5f6fdfdf0"
      },
      "execution_count": null,
      "outputs": [
        {
          "output_type": "execute_result",
          "data": {
            "text/plain": [
              "(100000, 31)"
            ]
          },
          "metadata": {},
          "execution_count": 9
        }
      ]
    },
    {
      "cell_type": "code",
      "source": [
        "reduced_df['Class'].value_counts()"
      ],
      "metadata": {
        "colab": {
          "base_uri": "https://localhost:8080/",
          "height": 178
        },
        "id": "7KZFQxNj0Rjj",
        "outputId": "d01a5bd2-3ebb-4a1b-98da-f5a953c28e7c"
      },
      "execution_count": null,
      "outputs": [
        {
          "output_type": "execute_result",
          "data": {
            "text/plain": [
              "Class\n",
              "0    99833\n",
              "1      167\n",
              "Name: count, dtype: int64"
            ],
            "text/html": [
              "<div>\n",
              "<style scoped>\n",
              "    .dataframe tbody tr th:only-of-type {\n",
              "        vertical-align: middle;\n",
              "    }\n",
              "\n",
              "    .dataframe tbody tr th {\n",
              "        vertical-align: top;\n",
              "    }\n",
              "\n",
              "    .dataframe thead th {\n",
              "        text-align: right;\n",
              "    }\n",
              "</style>\n",
              "<table border=\"1\" class=\"dataframe\">\n",
              "  <thead>\n",
              "    <tr style=\"text-align: right;\">\n",
              "      <th></th>\n",
              "      <th>count</th>\n",
              "    </tr>\n",
              "    <tr>\n",
              "      <th>Class</th>\n",
              "      <th></th>\n",
              "    </tr>\n",
              "  </thead>\n",
              "  <tbody>\n",
              "    <tr>\n",
              "      <th>0</th>\n",
              "      <td>99833</td>\n",
              "    </tr>\n",
              "    <tr>\n",
              "      <th>1</th>\n",
              "      <td>167</td>\n",
              "    </tr>\n",
              "  </tbody>\n",
              "</table>\n",
              "</div><br><label><b>dtype:</b> int64</label>"
            ]
          },
          "metadata": {},
          "execution_count": 10
        }
      ]
    },
    {
      "cell_type": "code",
      "source": [
        "X = df.drop(\"Class\",axis=1)\n",
        "Y = df['Class']\n",
        "\n",
        "x_train , x_test , y_train , y_test = train_test_split(X,Y,test_size=0.2,random_state=72)"
      ],
      "metadata": {
        "id": "Tkze4H7D0fna"
      },
      "execution_count": null,
      "outputs": []
    },
    {
      "cell_type": "code",
      "source": [
        "y_train.value_counts()"
      ],
      "metadata": {
        "colab": {
          "base_uri": "https://localhost:8080/",
          "height": 178
        },
        "id": "G0osyQ2i0ju7",
        "outputId": "475c34e0-e7b0-48a9-8e6c-9034f7714c9a"
      },
      "execution_count": null,
      "outputs": [
        {
          "output_type": "execute_result",
          "data": {
            "text/plain": [
              "Class\n",
              "0    226596\n",
              "1       384\n",
              "Name: count, dtype: int64"
            ],
            "text/html": [
              "<div>\n",
              "<style scoped>\n",
              "    .dataframe tbody tr th:only-of-type {\n",
              "        vertical-align: middle;\n",
              "    }\n",
              "\n",
              "    .dataframe tbody tr th {\n",
              "        vertical-align: top;\n",
              "    }\n",
              "\n",
              "    .dataframe thead th {\n",
              "        text-align: right;\n",
              "    }\n",
              "</style>\n",
              "<table border=\"1\" class=\"dataframe\">\n",
              "  <thead>\n",
              "    <tr style=\"text-align: right;\">\n",
              "      <th></th>\n",
              "      <th>count</th>\n",
              "    </tr>\n",
              "    <tr>\n",
              "      <th>Class</th>\n",
              "      <th></th>\n",
              "    </tr>\n",
              "  </thead>\n",
              "  <tbody>\n",
              "    <tr>\n",
              "      <th>0</th>\n",
              "      <td>226596</td>\n",
              "    </tr>\n",
              "    <tr>\n",
              "      <th>1</th>\n",
              "      <td>384</td>\n",
              "    </tr>\n",
              "  </tbody>\n",
              "</table>\n",
              "</div><br><label><b>dtype:</b> int64</label>"
            ]
          },
          "metadata": {},
          "execution_count": 9
        }
      ]
    },
    {
      "cell_type": "code",
      "source": [
        "train_set = np.concatenate([x_train.values, y_train.values.reshape(-1, 1)], axis=1)"
      ],
      "metadata": {
        "id": "aTdmK11u0mtP"
      },
      "execution_count": null,
      "outputs": []
    },
    {
      "cell_type": "code",
      "source": [
        "train_set = pd.DataFrame(train_set)"
      ],
      "metadata": {
        "id": "uCFbF5VG0pnC"
      },
      "execution_count": null,
      "outputs": []
    },
    {
      "cell_type": "code",
      "source": [
        "train_set.columns = x_train.columns.tolist() + ['Class']"
      ],
      "metadata": {
        "id": "576pbNJG0sGH"
      },
      "execution_count": null,
      "outputs": []
    },
    {
      "cell_type": "code",
      "source": [
        "train_set['Class'].unique()"
      ],
      "metadata": {
        "colab": {
          "base_uri": "https://localhost:8080/"
        },
        "id": "BlS0ohHo056B",
        "outputId": "bff12074-2a01-427e-8e78-14152c3758ee"
      },
      "execution_count": null,
      "outputs": [
        {
          "output_type": "execute_result",
          "data": {
            "text/plain": [
              "array([0., 1.])"
            ]
          },
          "metadata": {},
          "execution_count": 13
        }
      ]
    },
    {
      "cell_type": "markdown",
      "source": [
        "Checking the missing values in the dataset"
      ],
      "metadata": {
        "id": "Hqh5AWg91Oy8"
      }
    },
    {
      "cell_type": "code",
      "source": [
        "train_set.head()"
      ],
      "metadata": {
        "colab": {
          "base_uri": "https://localhost:8080/",
          "height": 255
        },
        "id": "RFR6HSo81LWu",
        "outputId": "aad303ae-748d-4ba0-d73b-196160e219b1"
      },
      "execution_count": null,
      "outputs": [
        {
          "output_type": "execute_result",
          "data": {
            "text/plain": [
              "       Time        V1        V2        V3        V4        V5        V6  \\\n",
              "0  166571.0 -0.263581  0.539459  1.151335  0.239111  0.081514  0.406554   \n",
              "1   76568.0 -0.622597 -0.129574  1.656816  0.097608 -2.107890  0.819533   \n",
              "2     926.0  0.829998 -0.611411  1.035351  1.615569 -0.283094  2.146994   \n",
              "3  167663.0  1.727682 -0.471870 -2.360559  1.105118  0.937635  0.019431   \n",
              "4  112061.0  1.996616 -0.231576 -1.670163  0.675869 -0.023765 -1.408983   \n",
              "\n",
              "         V7        V8        V9  ...       V21       V22       V23       V24  \\\n",
              "0  0.374843  0.164471  0.186264  ... -0.404868 -0.954422  0.133964 -0.416226   \n",
              "1  1.836955 -0.469041  0.513302  ... -0.146895  0.103710  0.306274  0.508722   \n",
              "2 -0.830778  0.824311  1.478535  ... -0.309388 -0.500548  0.154324 -0.996832   \n",
              "3  0.727822 -0.208714  0.076996  ...  0.117661  0.102664 -0.341391 -1.441763   \n",
              "4  0.450488 -0.360810  0.647546  ... -0.024352 -0.043764  0.056334  0.046036   \n",
              "\n",
              "        V25       V26       V27       V28  Amount  Class  \n",
              "0 -1.035955 -0.095476  0.080044  0.171671   29.24    0.0  \n",
              "1 -0.771444  0.892513 -0.006401 -0.142465  406.23    0.0  \n",
              "2  0.108640 -0.411158  0.125290  0.023370   64.99    0.0  \n",
              "3  0.530395 -0.439758 -0.057657 -0.055072  192.22    0.0  \n",
              "4  0.134475  0.379044 -0.103779 -0.070678   47.48    0.0  \n",
              "\n",
              "[5 rows x 31 columns]"
            ],
            "text/html": [
              "\n",
              "  <div id=\"df-b385fbdf-2963-4170-b82d-6bac9b11c3bf\" class=\"colab-df-container\">\n",
              "    <div>\n",
              "<style scoped>\n",
              "    .dataframe tbody tr th:only-of-type {\n",
              "        vertical-align: middle;\n",
              "    }\n",
              "\n",
              "    .dataframe tbody tr th {\n",
              "        vertical-align: top;\n",
              "    }\n",
              "\n",
              "    .dataframe thead th {\n",
              "        text-align: right;\n",
              "    }\n",
              "</style>\n",
              "<table border=\"1\" class=\"dataframe\">\n",
              "  <thead>\n",
              "    <tr style=\"text-align: right;\">\n",
              "      <th></th>\n",
              "      <th>Time</th>\n",
              "      <th>V1</th>\n",
              "      <th>V2</th>\n",
              "      <th>V3</th>\n",
              "      <th>V4</th>\n",
              "      <th>V5</th>\n",
              "      <th>V6</th>\n",
              "      <th>V7</th>\n",
              "      <th>V8</th>\n",
              "      <th>V9</th>\n",
              "      <th>...</th>\n",
              "      <th>V21</th>\n",
              "      <th>V22</th>\n",
              "      <th>V23</th>\n",
              "      <th>V24</th>\n",
              "      <th>V25</th>\n",
              "      <th>V26</th>\n",
              "      <th>V27</th>\n",
              "      <th>V28</th>\n",
              "      <th>Amount</th>\n",
              "      <th>Class</th>\n",
              "    </tr>\n",
              "  </thead>\n",
              "  <tbody>\n",
              "    <tr>\n",
              "      <th>0</th>\n",
              "      <td>166571.0</td>\n",
              "      <td>-0.263581</td>\n",
              "      <td>0.539459</td>\n",
              "      <td>1.151335</td>\n",
              "      <td>0.239111</td>\n",
              "      <td>0.081514</td>\n",
              "      <td>0.406554</td>\n",
              "      <td>0.374843</td>\n",
              "      <td>0.164471</td>\n",
              "      <td>0.186264</td>\n",
              "      <td>...</td>\n",
              "      <td>-0.404868</td>\n",
              "      <td>-0.954422</td>\n",
              "      <td>0.133964</td>\n",
              "      <td>-0.416226</td>\n",
              "      <td>-1.035955</td>\n",
              "      <td>-0.095476</td>\n",
              "      <td>0.080044</td>\n",
              "      <td>0.171671</td>\n",
              "      <td>29.24</td>\n",
              "      <td>0.0</td>\n",
              "    </tr>\n",
              "    <tr>\n",
              "      <th>1</th>\n",
              "      <td>76568.0</td>\n",
              "      <td>-0.622597</td>\n",
              "      <td>-0.129574</td>\n",
              "      <td>1.656816</td>\n",
              "      <td>0.097608</td>\n",
              "      <td>-2.107890</td>\n",
              "      <td>0.819533</td>\n",
              "      <td>1.836955</td>\n",
              "      <td>-0.469041</td>\n",
              "      <td>0.513302</td>\n",
              "      <td>...</td>\n",
              "      <td>-0.146895</td>\n",
              "      <td>0.103710</td>\n",
              "      <td>0.306274</td>\n",
              "      <td>0.508722</td>\n",
              "      <td>-0.771444</td>\n",
              "      <td>0.892513</td>\n",
              "      <td>-0.006401</td>\n",
              "      <td>-0.142465</td>\n",
              "      <td>406.23</td>\n",
              "      <td>0.0</td>\n",
              "    </tr>\n",
              "    <tr>\n",
              "      <th>2</th>\n",
              "      <td>926.0</td>\n",
              "      <td>0.829998</td>\n",
              "      <td>-0.611411</td>\n",
              "      <td>1.035351</td>\n",
              "      <td>1.615569</td>\n",
              "      <td>-0.283094</td>\n",
              "      <td>2.146994</td>\n",
              "      <td>-0.830778</td>\n",
              "      <td>0.824311</td>\n",
              "      <td>1.478535</td>\n",
              "      <td>...</td>\n",
              "      <td>-0.309388</td>\n",
              "      <td>-0.500548</td>\n",
              "      <td>0.154324</td>\n",
              "      <td>-0.996832</td>\n",
              "      <td>0.108640</td>\n",
              "      <td>-0.411158</td>\n",
              "      <td>0.125290</td>\n",
              "      <td>0.023370</td>\n",
              "      <td>64.99</td>\n",
              "      <td>0.0</td>\n",
              "    </tr>\n",
              "    <tr>\n",
              "      <th>3</th>\n",
              "      <td>167663.0</td>\n",
              "      <td>1.727682</td>\n",
              "      <td>-0.471870</td>\n",
              "      <td>-2.360559</td>\n",
              "      <td>1.105118</td>\n",
              "      <td>0.937635</td>\n",
              "      <td>0.019431</td>\n",
              "      <td>0.727822</td>\n",
              "      <td>-0.208714</td>\n",
              "      <td>0.076996</td>\n",
              "      <td>...</td>\n",
              "      <td>0.117661</td>\n",
              "      <td>0.102664</td>\n",
              "      <td>-0.341391</td>\n",
              "      <td>-1.441763</td>\n",
              "      <td>0.530395</td>\n",
              "      <td>-0.439758</td>\n",
              "      <td>-0.057657</td>\n",
              "      <td>-0.055072</td>\n",
              "      <td>192.22</td>\n",
              "      <td>0.0</td>\n",
              "    </tr>\n",
              "    <tr>\n",
              "      <th>4</th>\n",
              "      <td>112061.0</td>\n",
              "      <td>1.996616</td>\n",
              "      <td>-0.231576</td>\n",
              "      <td>-1.670163</td>\n",
              "      <td>0.675869</td>\n",
              "      <td>-0.023765</td>\n",
              "      <td>-1.408983</td>\n",
              "      <td>0.450488</td>\n",
              "      <td>-0.360810</td>\n",
              "      <td>0.647546</td>\n",
              "      <td>...</td>\n",
              "      <td>-0.024352</td>\n",
              "      <td>-0.043764</td>\n",
              "      <td>0.056334</td>\n",
              "      <td>0.046036</td>\n",
              "      <td>0.134475</td>\n",
              "      <td>0.379044</td>\n",
              "      <td>-0.103779</td>\n",
              "      <td>-0.070678</td>\n",
              "      <td>47.48</td>\n",
              "      <td>0.0</td>\n",
              "    </tr>\n",
              "  </tbody>\n",
              "</table>\n",
              "<p>5 rows × 31 columns</p>\n",
              "</div>\n",
              "    <div class=\"colab-df-buttons\">\n",
              "\n",
              "  <div class=\"colab-df-container\">\n",
              "    <button class=\"colab-df-convert\" onclick=\"convertToInteractive('df-b385fbdf-2963-4170-b82d-6bac9b11c3bf')\"\n",
              "            title=\"Convert this dataframe to an interactive table.\"\n",
              "            style=\"display:none;\">\n",
              "\n",
              "  <svg xmlns=\"http://www.w3.org/2000/svg\" height=\"24px\" viewBox=\"0 -960 960 960\">\n",
              "    <path d=\"M120-120v-720h720v720H120Zm60-500h600v-160H180v160Zm220 220h160v-160H400v160Zm0 220h160v-160H400v160ZM180-400h160v-160H180v160Zm440 0h160v-160H620v160ZM180-180h160v-160H180v160Zm440 0h160v-160H620v160Z\"/>\n",
              "  </svg>\n",
              "    </button>\n",
              "\n",
              "  <style>\n",
              "    .colab-df-container {\n",
              "      display:flex;\n",
              "      gap: 12px;\n",
              "    }\n",
              "\n",
              "    .colab-df-convert {\n",
              "      background-color: #E8F0FE;\n",
              "      border: none;\n",
              "      border-radius: 50%;\n",
              "      cursor: pointer;\n",
              "      display: none;\n",
              "      fill: #1967D2;\n",
              "      height: 32px;\n",
              "      padding: 0 0 0 0;\n",
              "      width: 32px;\n",
              "    }\n",
              "\n",
              "    .colab-df-convert:hover {\n",
              "      background-color: #E2EBFA;\n",
              "      box-shadow: 0px 1px 2px rgba(60, 64, 67, 0.3), 0px 1px 3px 1px rgba(60, 64, 67, 0.15);\n",
              "      fill: #174EA6;\n",
              "    }\n",
              "\n",
              "    .colab-df-buttons div {\n",
              "      margin-bottom: 4px;\n",
              "    }\n",
              "\n",
              "    [theme=dark] .colab-df-convert {\n",
              "      background-color: #3B4455;\n",
              "      fill: #D2E3FC;\n",
              "    }\n",
              "\n",
              "    [theme=dark] .colab-df-convert:hover {\n",
              "      background-color: #434B5C;\n",
              "      box-shadow: 0px 1px 3px 1px rgba(0, 0, 0, 0.15);\n",
              "      filter: drop-shadow(0px 1px 2px rgba(0, 0, 0, 0.3));\n",
              "      fill: #FFFFFF;\n",
              "    }\n",
              "  </style>\n",
              "\n",
              "    <script>\n",
              "      const buttonEl =\n",
              "        document.querySelector('#df-b385fbdf-2963-4170-b82d-6bac9b11c3bf button.colab-df-convert');\n",
              "      buttonEl.style.display =\n",
              "        google.colab.kernel.accessAllowed ? 'block' : 'none';\n",
              "\n",
              "      async function convertToInteractive(key) {\n",
              "        const element = document.querySelector('#df-b385fbdf-2963-4170-b82d-6bac9b11c3bf');\n",
              "        const dataTable =\n",
              "          await google.colab.kernel.invokeFunction('convertToInteractive',\n",
              "                                                    [key], {});\n",
              "        if (!dataTable) return;\n",
              "\n",
              "        const docLinkHtml = 'Like what you see? Visit the ' +\n",
              "          '<a target=\"_blank\" href=https://colab.research.google.com/notebooks/data_table.ipynb>data table notebook</a>'\n",
              "          + ' to learn more about interactive tables.';\n",
              "        element.innerHTML = '';\n",
              "        dataTable['output_type'] = 'display_data';\n",
              "        await google.colab.output.renderOutput(dataTable, element);\n",
              "        const docLink = document.createElement('div');\n",
              "        docLink.innerHTML = docLinkHtml;\n",
              "        element.appendChild(docLink);\n",
              "      }\n",
              "    </script>\n",
              "  </div>\n",
              "\n",
              "\n",
              "    <div id=\"df-993a9ca8-7fc8-4e33-932c-41f061e78ee1\">\n",
              "      <button class=\"colab-df-quickchart\" onclick=\"quickchart('df-993a9ca8-7fc8-4e33-932c-41f061e78ee1')\"\n",
              "                title=\"Suggest charts\"\n",
              "                style=\"display:none;\">\n",
              "\n",
              "<svg xmlns=\"http://www.w3.org/2000/svg\" height=\"24px\"viewBox=\"0 0 24 24\"\n",
              "     width=\"24px\">\n",
              "    <g>\n",
              "        <path d=\"M19 3H5c-1.1 0-2 .9-2 2v14c0 1.1.9 2 2 2h14c1.1 0 2-.9 2-2V5c0-1.1-.9-2-2-2zM9 17H7v-7h2v7zm4 0h-2V7h2v10zm4 0h-2v-4h2v4z\"/>\n",
              "    </g>\n",
              "</svg>\n",
              "      </button>\n",
              "\n",
              "<style>\n",
              "  .colab-df-quickchart {\n",
              "      --bg-color: #E8F0FE;\n",
              "      --fill-color: #1967D2;\n",
              "      --hover-bg-color: #E2EBFA;\n",
              "      --hover-fill-color: #174EA6;\n",
              "      --disabled-fill-color: #AAA;\n",
              "      --disabled-bg-color: #DDD;\n",
              "  }\n",
              "\n",
              "  [theme=dark] .colab-df-quickchart {\n",
              "      --bg-color: #3B4455;\n",
              "      --fill-color: #D2E3FC;\n",
              "      --hover-bg-color: #434B5C;\n",
              "      --hover-fill-color: #FFFFFF;\n",
              "      --disabled-bg-color: #3B4455;\n",
              "      --disabled-fill-color: #666;\n",
              "  }\n",
              "\n",
              "  .colab-df-quickchart {\n",
              "    background-color: var(--bg-color);\n",
              "    border: none;\n",
              "    border-radius: 50%;\n",
              "    cursor: pointer;\n",
              "    display: none;\n",
              "    fill: var(--fill-color);\n",
              "    height: 32px;\n",
              "    padding: 0;\n",
              "    width: 32px;\n",
              "  }\n",
              "\n",
              "  .colab-df-quickchart:hover {\n",
              "    background-color: var(--hover-bg-color);\n",
              "    box-shadow: 0 1px 2px rgba(60, 64, 67, 0.3), 0 1px 3px 1px rgba(60, 64, 67, 0.15);\n",
              "    fill: var(--button-hover-fill-color);\n",
              "  }\n",
              "\n",
              "  .colab-df-quickchart-complete:disabled,\n",
              "  .colab-df-quickchart-complete:disabled:hover {\n",
              "    background-color: var(--disabled-bg-color);\n",
              "    fill: var(--disabled-fill-color);\n",
              "    box-shadow: none;\n",
              "  }\n",
              "\n",
              "  .colab-df-spinner {\n",
              "    border: 2px solid var(--fill-color);\n",
              "    border-color: transparent;\n",
              "    border-bottom-color: var(--fill-color);\n",
              "    animation:\n",
              "      spin 1s steps(1) infinite;\n",
              "  }\n",
              "\n",
              "  @keyframes spin {\n",
              "    0% {\n",
              "      border-color: transparent;\n",
              "      border-bottom-color: var(--fill-color);\n",
              "      border-left-color: var(--fill-color);\n",
              "    }\n",
              "    20% {\n",
              "      border-color: transparent;\n",
              "      border-left-color: var(--fill-color);\n",
              "      border-top-color: var(--fill-color);\n",
              "    }\n",
              "    30% {\n",
              "      border-color: transparent;\n",
              "      border-left-color: var(--fill-color);\n",
              "      border-top-color: var(--fill-color);\n",
              "      border-right-color: var(--fill-color);\n",
              "    }\n",
              "    40% {\n",
              "      border-color: transparent;\n",
              "      border-right-color: var(--fill-color);\n",
              "      border-top-color: var(--fill-color);\n",
              "    }\n",
              "    60% {\n",
              "      border-color: transparent;\n",
              "      border-right-color: var(--fill-color);\n",
              "    }\n",
              "    80% {\n",
              "      border-color: transparent;\n",
              "      border-right-color: var(--fill-color);\n",
              "      border-bottom-color: var(--fill-color);\n",
              "    }\n",
              "    90% {\n",
              "      border-color: transparent;\n",
              "      border-bottom-color: var(--fill-color);\n",
              "    }\n",
              "  }\n",
              "</style>\n",
              "\n",
              "      <script>\n",
              "        async function quickchart(key) {\n",
              "          const quickchartButtonEl =\n",
              "            document.querySelector('#' + key + ' button');\n",
              "          quickchartButtonEl.disabled = true;  // To prevent multiple clicks.\n",
              "          quickchartButtonEl.classList.add('colab-df-spinner');\n",
              "          try {\n",
              "            const charts = await google.colab.kernel.invokeFunction(\n",
              "                'suggestCharts', [key], {});\n",
              "          } catch (error) {\n",
              "            console.error('Error during call to suggestCharts:', error);\n",
              "          }\n",
              "          quickchartButtonEl.classList.remove('colab-df-spinner');\n",
              "          quickchartButtonEl.classList.add('colab-df-quickchart-complete');\n",
              "        }\n",
              "        (() => {\n",
              "          let quickchartButtonEl =\n",
              "            document.querySelector('#df-993a9ca8-7fc8-4e33-932c-41f061e78ee1 button');\n",
              "          quickchartButtonEl.style.display =\n",
              "            google.colab.kernel.accessAllowed ? 'block' : 'none';\n",
              "        })();\n",
              "      </script>\n",
              "    </div>\n",
              "\n",
              "    </div>\n",
              "  </div>\n"
            ],
            "application/vnd.google.colaboratory.intrinsic+json": {
              "type": "dataframe",
              "variable_name": "train_set"
            }
          },
          "metadata": {},
          "execution_count": 14
        }
      ]
    },
    {
      "cell_type": "markdown",
      "source": [
        "There are no missing value in the training dataset, but if there was missing value, we could have use the\n",
        "\n",
        "df = df.dropna()"
      ],
      "metadata": {
        "id": "eB-fHfN31TIr"
      }
    },
    {
      "cell_type": "code",
      "source": [
        "cor = train_set.corr()\n",
        "plt.figure(figsize=(16, 12))\n",
        "\n",
        "# Draw the heatmap\n",
        "sns.heatmap(cor, cmap='coolwarm', annot=False, fmt=\".2f\", linewidths=0.5)\n",
        "\n",
        "plt.title(\"Correlation Heatmap\")\n",
        "plt.show()"
      ],
      "metadata": {
        "colab": {
          "base_uri": "https://localhost:8080/",
          "height": 1000
        },
        "id": "tfdHcpX71S1J",
        "outputId": "b6db9101-f149-455b-dd6a-424068e3c507"
      },
      "execution_count": null,
      "outputs": [
        {
          "output_type": "display_data",
          "data": {
            "text/plain": [
              "<Figure size 1600x1200 with 2 Axes>"
            ],
            "image/png": "[encoded data removed]"
          },
          "metadata": {}
        }
      ]
    },
    {
      "cell_type": "markdown",
      "source": [
        "Checking the missing values in the dataset"
      ],
      "metadata": {
        "id": "BP3bDBE730TK"
      }
    },
    {
      "cell_type": "code",
      "source": [
        "train_set.isnull().sum()"
      ],
      "metadata": {
        "colab": {
          "base_uri": "https://localhost:8080/",
          "height": 1000
        },
        "id": "G6Z7A_L_09lR",
        "outputId": "037ef6fe-4b18-4c8f-b424-02f29ee1e177"
      },
      "execution_count": null,
      "outputs": [
        {
          "output_type": "execute_result",
          "data": {
            "text/plain": [
              "Time      0\n",
              "V1        0\n",
              "V2        0\n",
              "V3        0\n",
              "V4        0\n",
              "V5        0\n",
              "V6        0\n",
              "V7        0\n",
              "V8        0\n",
              "V9        0\n",
              "V10       0\n",
              "V11       0\n",
              "V12       0\n",
              "V13       0\n",
              "V14       0\n",
              "V15       0\n",
              "V16       0\n",
              "V17       0\n",
              "V18       0\n",
              "V19       0\n",
              "V20       0\n",
              "V21       0\n",
              "V22       0\n",
              "V23       0\n",
              "V24       0\n",
              "V25       0\n",
              "V26       0\n",
              "V27       0\n",
              "V28       0\n",
              "Amount    0\n",
              "Class     0\n",
              "dtype: int64"
            ],
            "text/html": [
              "<div>\n",
              "<style scoped>\n",
              "    .dataframe tbody tr th:only-of-type {\n",
              "        vertical-align: middle;\n",
              "    }\n",
              "\n",
              "    .dataframe tbody tr th {\n",
              "        vertical-align: top;\n",
              "    }\n",
              "\n",
              "    .dataframe thead th {\n",
              "        text-align: right;\n",
              "    }\n",
              "</style>\n",
              "<table border=\"1\" class=\"dataframe\">\n",
              "  <thead>\n",
              "    <tr style=\"text-align: right;\">\n",
              "      <th></th>\n",
              "      <th>0</th>\n",
              "    </tr>\n",
              "  </thead>\n",
              "  <tbody>\n",
              "    <tr>\n",
              "      <th>Time</th>\n",
              "      <td>0</td>\n",
              "    </tr>\n",
              "    <tr>\n",
              "      <th>V1</th>\n",
              "      <td>0</td>\n",
              "    </tr>\n",
              "    <tr>\n",
              "      <th>V2</th>\n",
              "      <td>0</td>\n",
              "    </tr>\n",
              "    <tr>\n",
              "      <th>V3</th>\n",
              "      <td>0</td>\n",
              "    </tr>\n",
              "    <tr>\n",
              "      <th>V4</th>\n",
              "      <td>0</td>\n",
              "    </tr>\n",
              "    <tr>\n",
              "      <th>V5</th>\n",
              "      <td>0</td>\n",
              "    </tr>\n",
              "    <tr>\n",
              "      <th>V6</th>\n",
              "      <td>0</td>\n",
              "    </tr>\n",
              "    <tr>\n",
              "      <th>V7</th>\n",
              "      <td>0</td>\n",
              "    </tr>\n",
              "    <tr>\n",
              "      <th>V8</th>\n",
              "      <td>0</td>\n",
              "    </tr>\n",
              "    <tr>\n",
              "      <th>V9</th>\n",
              "      <td>0</td>\n",
              "    </tr>\n",
              "    <tr>\n",
              "      <th>V10</th>\n",
              "      <td>0</td>\n",
              "    </tr>\n",
              "    <tr>\n",
              "      <th>V11</th>\n",
              "      <td>0</td>\n",
              "    </tr>\n",
              "    <tr>\n",
              "      <th>V12</th>\n",
              "      <td>0</td>\n",
              "    </tr>\n",
              "    <tr>\n",
              "      <th>V13</th>\n",
              "      <td>0</td>\n",
              "    </tr>\n",
              "    <tr>\n",
              "      <th>V14</th>\n",
              "      <td>0</td>\n",
              "    </tr>\n",
              "    <tr>\n",
              "      <th>V15</th>\n",
              "      <td>0</td>\n",
              "    </tr>\n",
              "    <tr>\n",
              "      <th>V16</th>\n",
              "      <td>0</td>\n",
              "    </tr>\n",
              "    <tr>\n",
              "      <th>V17</th>\n",
              "      <td>0</td>\n",
              "    </tr>\n",
              "    <tr>\n",
              "      <th>V18</th>\n",
              "      <td>0</td>\n",
              "    </tr>\n",
              "    <tr>\n",
              "      <th>V19</th>\n",
              "      <td>0</td>\n",
              "    </tr>\n",
              "    <tr>\n",
              "      <th>V20</th>\n",
              "      <td>0</td>\n",
              "    </tr>\n",
              "    <tr>\n",
              "      <th>V21</th>\n",
              "      <td>0</td>\n",
              "    </tr>\n",
              "    <tr>\n",
              "      <th>V22</th>\n",
              "      <td>0</td>\n",
              "    </tr>\n",
              "    <tr>\n",
              "      <th>V23</th>\n",
              "      <td>0</td>\n",
              "    </tr>\n",
              "    <tr>\n",
              "      <th>V24</th>\n",
              "      <td>0</td>\n",
              "    </tr>\n",
              "    <tr>\n",
              "      <th>V25</th>\n",
              "      <td>0</td>\n",
              "    </tr>\n",
              "    <tr>\n",
              "      <th>V26</th>\n",
              "      <td>0</td>\n",
              "    </tr>\n",
              "    <tr>\n",
              "      <th>V27</th>\n",
              "      <td>0</td>\n",
              "    </tr>\n",
              "    <tr>\n",
              "      <th>V28</th>\n",
              "      <td>0</td>\n",
              "    </tr>\n",
              "    <tr>\n",
              "      <th>Amount</th>\n",
              "      <td>0</td>\n",
              "    </tr>\n",
              "    <tr>\n",
              "      <th>Class</th>\n",
              "      <td>0</td>\n",
              "    </tr>\n",
              "  </tbody>\n",
              "</table>\n",
              "</div><br><label><b>dtype:</b> int64</label>"
            ]
          },
          "metadata": {},
          "execution_count": 16
        }
      ]
    },
    {
      "cell_type": "markdown",
      "source": [
        "There are no missing value in the training dataset, but if there was missing value, we could have use the\n",
        "\n",
        "df = df.dropna()"
      ],
      "metadata": {
        "id": "S9ClB_OP36ML"
      }
    },
    {
      "cell_type": "markdown",
      "source": [
        "The dataset we are using is already scaled and pca , but only two columns are not scaled [['Time','Amount']]."
      ],
      "metadata": {
        "id": "6eHt97ATpuAs"
      }
    },
    {
      "cell_type": "code",
      "source": [
        "\n",
        "from sklearn.preprocessing import StandardScaler\n",
        "\n",
        "scaler = StandardScaler()\n",
        "\n",
        "# Only scale Time and Amount\n",
        "train_set[['Time', 'Amount']] = scaler.fit_transform(train_set[['Time', 'Amount']])"
      ],
      "metadata": {
        "id": "z8P-8b7H1CTf"
      },
      "execution_count": null,
      "outputs": []
    },
    {
      "cell_type": "code",
      "source": [
        "import pickle\n",
        "\n",
        "with open(\"scaler1.pkl\", \"wb\") as f:\n",
        "    pickle.dump(scaler, f)\n"
      ],
      "metadata": {
        "id": "cnoHJ-Wc4aSu"
      },
      "execution_count": null,
      "outputs": []
    },
    {
      "cell_type": "code",
      "source": [],
      "metadata": {
        "id": "YmJu7U-D0ahH"
      },
      "execution_count": null,
      "outputs": []
    },
    {
      "cell_type": "markdown",
      "source": [
        "Now we will check the whether the dataset of training is imbalance or not? We must only do the checking and handling of the imbalanceness once we have split the data.\n",
        "\n",
        "else there will be the problem of data leakage while handling"
      ],
      "metadata": {
        "id": "uns4fB9F4kxe"
      }
    },
    {
      "cell_type": "code",
      "source": [
        "# Assuming your target column is 'Class'\n",
        "print(train_set['Class'].value_counts(normalize=True))  # Gives proportion\n",
        "print(train_set['Class'].value_counts())                # Gives actual counts\n",
        "\n",
        "import seaborn as sns\n",
        "import matplotlib.pyplot as plt\n",
        "\n",
        "sns.countplot(x=train_set['Class'])\n",
        "plt.title(\"Class Distribution\")\n",
        "plt.show()"
      ],
      "metadata": {
        "colab": {
          "base_uri": "https://localhost:8080/",
          "height": 611
        },
        "id": "LNRwZECG4ls2",
        "outputId": "6b7c9ee9-38ae-45e0-c9f7-3589019aa8ec"
      },
      "execution_count": null,
      "outputs": [
        {
          "output_type": "stream",
          "name": "stdout",
          "text": [
            "Class\n",
            "0.0    0.998308\n",
            "1.0    0.001692\n",
            "Name: proportion, dtype: float64\n",
            "Class\n",
            "0.0    226596\n",
            "1.0       384\n",
            "Name: count, dtype: int64\n"
          ]
        },
        {
          "output_type": "display_data",
          "data": {
            "text/plain": [
              "<Figure size 640x480 with 1 Axes>"
            ],
            "image/png": "[encoded data removed]"
          },
          "metadata": {}
        }
      ]
    },
    {
      "cell_type": "code",
      "source": [
        "x_train = train_set.drop(\"Class\",axis=1)\n",
        "y_train = train_set['Class']"
      ],
      "metadata": {
        "id": "orH9t3d14mJU"
      },
      "execution_count": null,
      "outputs": []
    },
    {
      "cell_type": "code",
      "source": [
        "# Plot\n",
        "plt.figure(figsize=(10,6))\n",
        "colors = {0:'blue', 1:'red'}\n",
        "plt.scatter(df['Time'], df['Amount'], c=df['Class'].map(colors), alpha=0.5, label='Transactions')\n",
        "plt.title(\"Time vs Amount colored by Class (0 = Non-Fraud, 1 = Fraud)\")\n",
        "plt.xlabel(\"Time\")\n",
        "plt.ylabel(\"Amount\")\n",
        "plt.show()"
      ],
      "metadata": {
        "colab": {
          "base_uri": "https://localhost:8080/",
          "height": 564
        },
        "id": "LkdeHFYHxpYE",
        "outputId": "ba3cfa71-00b4-49ed-d9c5-aa257f8446e9"
      },
      "execution_count": null,
      "outputs": [
        {
          "output_type": "display_data",
          "data": {
            "text/plain": [
              "<Figure size 1000x600 with 1 Axes>"
            ],
            "image/png": "[encoded data removed]"
          },
          "metadata": {}
        }
      ]
    },
    {
      "cell_type": "code",
      "source": [
        "\n",
        "\n",
        "# Apply SMOTE only on training data\n",
        "smote = SMOTE(random_state=42)\n",
        "X_train_balanced, y_train_balanced = smote.fit_resample(x_train, y_train)\n",
        "\n",
        "# Check new class distribution\n",
        "print(y_train_balanced.value_counts())"
      ],
      "metadata": {
        "colab": {
          "base_uri": "https://localhost:8080/"
        },
        "id": "QifLG8Mc4yWn",
        "outputId": "4d5fe2f1-ced7-45c6-d23e-848c99ef0133"
      },
      "execution_count": null,
      "outputs": [
        {
          "output_type": "stream",
          "name": "stdout",
          "text": [
            "Class\n",
            "0.0    226596\n",
            "1.0    226596\n",
            "Name: count, dtype: int64\n"
          ]
        }
      ]
    },
    {
      "cell_type": "code",
      "source": [],
      "metadata": {
        "id": "k0QL3CrKy5_5"
      },
      "execution_count": null,
      "outputs": []
    },
    {
      "cell_type": "code",
      "source": [
        "smote_df = pd.DataFrame(X_train_balanced, columns=x_train.columns)\n",
        "smote_df['Class'] = y_train_balanced\n",
        "\n",
        "plt.figure(figsize=(10,6))\n",
        "colors = {0: 'blue', 1: 'red'}\n",
        "plt.scatter(smote_df['Time'], smote_df['Amount'], c=smote_df['Class'].map(colors), alpha=0.5)\n",
        "plt.title(\"SMOTE-Balanced Training Data: Time vs Amount (0 = Non-Fraud, 1 = Fraud)\")\n",
        "plt.xlabel(\"Time\")\n",
        "plt.ylabel(\"Amount\")\n",
        "plt.show()"
      ],
      "metadata": {
        "colab": {
          "base_uri": "https://localhost:8080/",
          "height": 564
        },
        "id": "QAk2T1VXy4Zj",
        "outputId": "7395980b-68c2-4ac0-8423-f8fc97b84e25"
      },
      "execution_count": null,
      "outputs": [
        {
          "output_type": "display_data",
          "data": {
            "text/plain": [
              "<Figure size 1000x600 with 1 Axes>"
            ],
            "image/png": "[encoded data removed]"
          },
          "metadata": {}
        }
      ]
    },
    {
      "cell_type": "code",
      "source": [],
      "metadata": {
        "id": "ezzQQNdlx9OO"
      },
      "execution_count": null,
      "outputs": []
    },
    {
      "cell_type": "markdown",
      "source": [
        "Always do the PCA after doing the train/test split and feature engineering of the dataset else there will be chance of data leakage\n",
        "\n"
      ],
      "metadata": {
        "id": "LW-ogCvd49OZ"
      }
    },
    {
      "cell_type": "markdown",
      "source": [],
      "metadata": {
        "id": "CpoklC0HqPWM"
      }
    },
    {
      "cell_type": "code",
      "source": [
        "!pip install optuna"
      ],
      "metadata": {
        "colab": {
          "base_uri": "https://localhost:8080/"
        },
        "id": "vnFeLzV_zLjz",
        "outputId": "5b5b2616-cd15-4515-b055-07be5ec42832"
      },
      "execution_count": null,
      "outputs": [
        {
          "output_type": "stream",
          "name": "stdout",
          "text": [
            "Collecting optuna\n",
            "  Downloading optuna-4.4.0-py3-none-any.whl.metadata (17 kB)\n",
            "Collecting alembic>=1.5.0 (from optuna)\n",
            "  Downloading alembic-1.16.4-py3-none-any.whl.metadata (7.3 kB)\n",
            "Collecting colorlog (from optuna)\n",
            "  Downloading colorlog-6.9.0-py3-none-any.whl.metadata (10 kB)\n",
            "Requirement already satisfied: numpy in /usr/local/lib/python3.11/dist-packages (from optuna) (2.0.2)\n",
            "Requirement already satisfied: packaging>=20.0 in /usr/local/lib/python3.11/dist-packages (from optuna) (25.0)\n",
            "Requirement already satisfied: sqlalchemy>=1.4.2 in /usr/local/lib/python3.11/dist-packages (from optuna) (2.0.41)\n",
            "Requirement already satisfied: tqdm in /usr/local/lib/python3.11/dist-packages (from optuna) (4.67.1)\n",
            "Requirement already satisfied: PyYAML in /usr/local/lib/python3.11/dist-packages (from optuna) (6.0.2)\n",
            "Requirement already satisfied: Mako in /usr/lib/python3/dist-packages (from alembic>=1.5.0->optuna) (1.1.3)\n",
            "Requirement already satisfied: typing-extensions>=4.12 in /usr/local/lib/python3.11/dist-packages (from alembic>=1.5.0->optuna) (4.14.1)\n",
            "Requirement already satisfied: greenlet>=1 in /usr/local/lib/python3.11/dist-packages (from sqlalchemy>=1.4.2->optuna) (3.2.3)\n",
            "Downloading optuna-4.4.0-py3-none-any.whl (395 kB)\n",
            "\u001b[2K   \u001b[90m━━━━━━━━━━━━━━━━━━━━━━━━━━━━━━━━━━━━━━━━\u001b[0m \u001b[32m395.9/395.9 kB\u001b[0m \u001b[31m7.2 MB/s\u001b[0m eta \u001b[36m0:00:00\u001b[0m\n",
            "\u001b[?25hDownloading alembic-1.16.4-py3-none-any.whl (247 kB)\n",
            "\u001b[2K   \u001b[90m━━━━━━━━━━━━━━━━━━━━━━━━━━━━━━━━━━━━━━━━\u001b[0m \u001b[32m247.0/247.0 kB\u001b[0m \u001b[31m20.5 MB/s\u001b[0m eta \u001b[36m0:00:00\u001b[0m\n",
            "\u001b[?25hDownloading colorlog-6.9.0-py3-none-any.whl (11 kB)\n",
            "Installing collected packages: colorlog, alembic, optuna\n",
            "Successfully installed alembic-1.16.4 colorlog-6.9.0 optuna-4.4.0\n"
          ]
        }
      ]
    },
    {
      "cell_type": "code",
      "source": [
        "\n",
        "import pickle\n",
        "import json\n",
        "\n",
        "from sklearn.model_selection import train_test_split, cross_val_score\n",
        "from sklearn.pipeline import Pipeline\n",
        "from sklearn.metrics import classification_report, confusion_matrix, f1_score\n",
        "\n",
        "from sklearn.preprocessing import StandardScaler\n",
        "from sklearn.decomposition import PCA\n",
        "from sklearn.ensemble import RandomForestClassifier\n",
        "from xgboost import XGBClassifier"
      ],
      "metadata": {
        "id": "4on8jdLi5bHb"
      },
      "execution_count": null,
      "outputs": []
    },
    {
      "cell_type": "code",
      "source": [
        "\n",
        "# Train final model on full train set\n",
        "final_rf = RandomForestClassifier()\n",
        "final_rf.fit(x_train, y_train)\n",
        "\n",
        "y_pred = final_rf.predict(x_train)\n",
        "print(classification_report(y_train, y_pred))\n",
        "print(confusion_matrix(y_train, y_pred))\n",
        "\n",
        "\n",
        "# Evaluate\n",
        "y_pred = final_rf.predict(x_test)\n",
        "print(classification_report(y_test, y_pred))\n",
        "print(confusion_matrix(y_test, y_pred))"
      ],
      "metadata": {
        "colab": {
          "base_uri": "https://localhost:8080/"
        },
        "id": "8M7KYNIS41sH",
        "outputId": "555766f6-85c4-4759-9cdd-b897e6e1bc6a"
      },
      "execution_count": null,
      "outputs": [
        {
          "output_type": "stream",
          "name": "stdout",
          "text": [
            "              precision    recall  f1-score   support\n",
            "\n",
            "         0.0       1.00      1.00      1.00    226596\n",
            "         1.0       1.00      1.00      1.00       384\n",
            "\n",
            "    accuracy                           1.00    226980\n",
            "   macro avg       1.00      1.00      1.00    226980\n",
            "weighted avg       1.00      1.00      1.00    226980\n",
            "\n",
            "[[226596      0]\n",
            " [     0    384]]\n",
            "              precision    recall  f1-score   support\n",
            "\n",
            "           0       1.00      1.00      1.00     56657\n",
            "           1       0.93      0.84      0.88        89\n",
            "\n",
            "    accuracy                           1.00     56746\n",
            "   macro avg       0.96      0.92      0.94     56746\n",
            "weighted avg       1.00      1.00      1.00     56746\n",
            "\n",
            "[[56651     6]\n",
            " [   14    75]]\n"
          ]
        }
      ]
    },
    {
      "cell_type": "code",
      "source": [
        "params_rf = final_rf.get_params()"
      ],
      "metadata": {
        "id": "O_z0jZaT65-z"
      },
      "execution_count": null,
      "outputs": []
    },
    {
      "cell_type": "markdown",
      "source": [
        "fine tuned the hyperparameter of the random forest to get better result"
      ],
      "metadata": {
        "id": "rQudKZuhqWsT"
      }
    },
    {
      "cell_type": "code",
      "source": [
        "params_rf"
      ],
      "metadata": {
        "colab": {
          "base_uri": "https://localhost:8080/"
        },
        "id": "HgLFfwVOMypT",
        "outputId": "fbe5c2aa-9989-4f11-8887-023a6b90ea0c"
      },
      "execution_count": null,
      "outputs": [
        {
          "output_type": "execute_result",
          "data": {
            "text/plain": [
              "{'bootstrap': True,\n",
              " 'ccp_alpha': 0.0,\n",
              " 'class_weight': None,\n",
              " 'criterion': 'gini',\n",
              " 'max_depth': None,\n",
              " 'max_features': 'sqrt',\n",
              " 'max_leaf_nodes': None,\n",
              " 'max_samples': None,\n",
              " 'min_impurity_decrease': 0.0,\n",
              " 'min_samples_leaf': 1,\n",
              " 'min_samples_split': 2,\n",
              " 'min_weight_fraction_leaf': 0.0,\n",
              " 'monotonic_cst': None,\n",
              " 'n_estimators': 100,\n",
              " 'n_jobs': None,\n",
              " 'oob_score': False,\n",
              " 'random_state': None,\n",
              " 'verbose': 0,\n",
              " 'warm_start': False}"
            ]
          },
          "metadata": {},
          "execution_count": 106
        }
      ]
    },
    {
      "cell_type": "code",
      "source": [
        "params_rf['max_depth'] = 20\n",
        "params_rf['min_samples_leaf'] = 5\n",
        "params_rf['min_samples_split'] = 5\n",
        "params_rf['n_estimators'] = 150\n"
      ],
      "metadata": {
        "id": "6T-52bBkM9L4"
      },
      "execution_count": null,
      "outputs": []
    },
    {
      "cell_type": "code",
      "source": [
        "final_rf = RandomForestClassifier(**params_rf)\n",
        "final_rf.fit(x_train, y_train)\n",
        "\n",
        "y_pred = final_rf.predict(x_train)\n",
        "print(classification_report(y_train, y_pred))\n",
        "print(confusion_matrix(y_train, y_pred))\n",
        "\n",
        "\n",
        "# Evaluate\n",
        "y_pred = final_rf.predict(x_test)\n",
        "print(classification_report(y_test, y_pred))\n",
        "print(confusion_matrix(y_test, y_pred))"
      ],
      "metadata": {
        "colab": {
          "base_uri": "https://localhost:8080/"
        },
        "id": "SmckKY8BNT9d",
        "outputId": "db1e19b0-1452-4c6f-830b-a2ef1eefa1cf"
      },
      "execution_count": null,
      "outputs": [
        {
          "output_type": "stream",
          "name": "stdout",
          "text": [
            "              precision    recall  f1-score   support\n",
            "\n",
            "         0.0       1.00      1.00      1.00    226596\n",
            "         1.0       0.97      0.80      0.88       384\n",
            "\n",
            "    accuracy                           1.00    226980\n",
            "   macro avg       0.98      0.90      0.94    226980\n",
            "weighted avg       1.00      1.00      1.00    226980\n",
            "\n",
            "[[226585     11]\n",
            " [    75    309]]\n",
            "              precision    recall  f1-score   support\n",
            "\n",
            "           0       1.00      1.00      1.00     56657\n",
            "           1       0.90      0.82      0.86        89\n",
            "\n",
            "    accuracy                           1.00     56746\n",
            "   macro avg       0.95      0.91      0.93     56746\n",
            "weighted avg       1.00      1.00      1.00     56746\n",
            "\n",
            "[[56649     8]\n",
            " [   16    73]]\n"
          ]
        }
      ]
    },
    {
      "cell_type": "markdown",
      "source": [
        "\n"
      ],
      "metadata": {
        "id": "G1h8-CrYGw1v"
      }
    },
    {
      "cell_type": "code",
      "source": [],
      "metadata": {
        "id": "9TBW_9gxG7my"
      },
      "execution_count": null,
      "outputs": []
    },
    {
      "cell_type": "code",
      "source": [],
      "metadata": {
        "id": "L4myrXQaG4qc"
      },
      "execution_count": null,
      "outputs": []
    },
    {
      "cell_type": "code",
      "source": [],
      "metadata": {
        "id": "ghNLzZtIGwe3"
      },
      "execution_count": null,
      "outputs": []
    },
    {
      "cell_type": "markdown",
      "source": [
        "XGBoost"
      ],
      "metadata": {
        "id": "Jv-5e8ZuqnQu"
      }
    },
    {
      "cell_type": "code",
      "source": [
        "\n",
        "from xgboost import XGBClassifier\n",
        "from sklearn.metrics import classification_report, confusion_matrix\n",
        "\n",
        "# Train final model\n",
        "final_xgb = XGBClassifier()\n",
        "final_xgb.fit(x_train, y_train)\n",
        "\n",
        "y_pred = final_xgb.predict(x_train)\n",
        "\n",
        "# Evaluate\n",
        "print(classification_report(y_train, y_pred))\n",
        "print(confusion_matrix(y_train, y_pred))\n",
        "\n",
        "\n",
        "# Predict on test data\n",
        "y_pred = final_xgb.predict(x_test)\n",
        "\n",
        "# Evaluate\n",
        "print(classification_report(y_test, y_pred))\n",
        "print(confusion_matrix(y_test, y_pred))"
      ],
      "metadata": {
        "colab": {
          "base_uri": "https://localhost:8080/"
        },
        "id": "mIeGaq3r5sfx",
        "outputId": "1a3d9261-ec27-4908-bea3-a00d9c5cf4be"
      },
      "execution_count": null,
      "outputs": [
        {
          "output_type": "stream",
          "name": "stdout",
          "text": [
            "              precision    recall  f1-score   support\n",
            "\n",
            "         0.0       1.00      1.00      1.00    226596\n",
            "         1.0       0.99      1.00      0.99       384\n",
            "\n",
            "    accuracy                           1.00    226980\n",
            "   macro avg       1.00      1.00      1.00    226980\n",
            "weighted avg       1.00      1.00      1.00    226980\n",
            "\n",
            "[[226593      3]\n",
            " [     1    383]]\n",
            "              precision    recall  f1-score   support\n",
            "\n",
            "           0       1.00      1.00      1.00     56657\n",
            "           1       0.92      0.74      0.82        89\n",
            "\n",
            "    accuracy                           1.00     56746\n",
            "   macro avg       0.96      0.87      0.91     56746\n",
            "weighted avg       1.00      1.00      1.00     56746\n",
            "\n",
            "[[56651     6]\n",
            " [   23    66]]\n"
          ]
        }
      ]
    },
    {
      "cell_type": "code",
      "source": [],
      "metadata": {
        "id": "SPcSC-ILPHMs"
      },
      "execution_count": null,
      "outputs": []
    },
    {
      "cell_type": "markdown",
      "source": [
        "Fine tunnig the parameters of the XGB, using Optuna"
      ],
      "metadata": {
        "id": "kvX1MzcrqqNo"
      }
    },
    {
      "cell_type": "code",
      "source": [
        "import optuna\n",
        "from xgboost import XGBClassifier\n",
        "from sklearn.model_selection import cross_val_score\n",
        "\n",
        "def objective_xgb(trial):\n",
        "\n",
        "    params = {\n",
        "    'n_estimators': trial.suggest_int('n_estimators', 100, 500),\n",
        "    'max_depth': trial.suggest_int('max_depth', 3, 12),\n",
        "    'learning_rate': trial.suggest_float('learning_rate', 0.005, 0.2, log=True),\n",
        "    'subsample': trial.suggest_float('subsample', 0.6, 1.0),\n",
        "    'colsample_bytree': trial.suggest_float('colsample_bytree', 0.6, 1.0),\n",
        "    'min_child_weight': trial.suggest_int('min_child_weight', 1, 20),\n",
        "    'gamma': trial.suggest_float('gamma', 0, 10),\n",
        "    'reg_alpha': trial.suggest_float('reg_alpha', 0.0, 10.0),\n",
        "    'reg_lambda': trial.suggest_float('reg_lambda', 0.0, 10.0),\n",
        "    'scale_pos_weight': 1,  # dynamically calculated from data\n",
        "    'random_state': 42,\n",
        "\n",
        "    'eval_metric': 'aucpr'\n",
        "}\n",
        "\n",
        "    model = XGBClassifier(**params)\n",
        "\n",
        "    score = cross_val_score(model, x_train, y_train, cv=5, scoring='f1').mean()\n",
        "    return score\n",
        "\n",
        "study_xgb = optuna.create_study(direction=\"maximize\")\n",
        "study_xgb.optimize(objective_xgb, n_trials=50)\n",
        "\n",
        "best_params_xgb = study_xgb.best_params\n",
        "best_params_xgb[\"random_state\"] = 42\n",
        "best_params_xgb[\"scale_pos_weight\"] = 1\n",
        "best_params_xgb[\"use_label_encoder\"] = False\n",
        "best_params_xgb[\"eval_metric\"] = \"logloss\"\n"
      ],
      "metadata": {
        "colab": {
          "base_uri": "https://localhost:8080/"
        },
        "id": "6lYcJLaAPFYG",
        "outputId": "c3157d91-22ee-4d5c-c978-2b50a77fb6d0"
      },
      "execution_count": null,
      "outputs": [
        {
          "output_type": "stream",
          "name": "stderr",
          "text": [
            "[I 2025-07-31 14:10:26,586] A new study created in memory with name: no-name-60145c7b-1b83-41e7-9b97-90817ae343c8\n",
            "[I 2025-07-31 14:10:35,713] Trial 0 finished with value: 0.7603754358499965 and parameters: {'n_estimators': 170, 'max_depth': 3, 'learning_rate': 0.024529199543297124, 'subsample': 0.7250087670391515, 'colsample_bytree': 0.8959890579489382, 'min_child_weight': 4, 'gamma': 1.5814939564678865, 'reg_alpha': 1.3458023011397957, 'reg_lambda': 6.711652891223377}. Best is trial 0 with value: 0.7603754358499965.\n",
            "[I 2025-07-31 14:10:40,895] Trial 1 finished with value: 0.0 and parameters: {'n_estimators': 142, 'max_depth': 8, 'learning_rate': 0.011382981939074265, 'subsample': 0.738156205747391, 'colsample_bytree': 0.7406704128884553, 'min_child_weight': 7, 'gamma': 3.710500615666583, 'reg_alpha': 1.6833424699620392, 'reg_lambda': 3.7750762508742017}. Best is trial 0 with value: 0.7603754358499965.\n",
            "[I 2025-07-31 14:10:54,677] Trial 2 finished with value: 0.757546485260771 and parameters: {'n_estimators': 446, 'max_depth': 7, 'learning_rate': 0.03371670869797781, 'subsample': 0.6278171530175874, 'colsample_bytree': 0.9621324571665298, 'min_child_weight': 19, 'gamma': 0.520152964917252, 'reg_alpha': 5.278330025206048, 'reg_lambda': 6.5688251943267995}. Best is trial 0 with value: 0.7603754358499965.\n",
            "[I 2025-07-31 14:11:03,563] Trial 3 finished with value: 0.7383238023154767 and parameters: {'n_estimators': 243, 'max_depth': 4, 'learning_rate': 0.06220001222143312, 'subsample': 0.6378030447183041, 'colsample_bytree': 0.6365489767636713, 'min_child_weight': 12, 'gamma': 5.504695903313785, 'reg_alpha': 6.688561082341979, 'reg_lambda': 7.629347009723108}. Best is trial 0 with value: 0.7603754358499965.\n",
            "[I 2025-07-31 14:11:13,184] Trial 4 finished with value: 0.7403572243799547 and parameters: {'n_estimators': 295, 'max_depth': 8, 'learning_rate': 0.07934720953229775, 'subsample': 0.9114252345283793, 'colsample_bytree': 0.6740490044943579, 'min_child_weight': 4, 'gamma': 5.281093158913945, 'reg_alpha': 9.504965264416299, 'reg_lambda': 0.07645392130478879}. Best is trial 0 with value: 0.7603754358499965.\n",
            "[I 2025-07-31 14:11:21,488] Trial 5 finished with value: 0.6962498595663409 and parameters: {'n_estimators': 289, 'max_depth': 10, 'learning_rate': 0.023160809015222033, 'subsample': 0.6933088240698125, 'colsample_bytree': 0.6307573254847257, 'min_child_weight': 19, 'gamma': 1.0335679932970732, 'reg_alpha': 9.074545350902584, 'reg_lambda': 8.83311542558477}. Best is trial 0 with value: 0.7603754358499965.\n",
            "[I 2025-07-31 14:11:38,816] Trial 6 finished with value: 0.7345345200003585 and parameters: {'n_estimators': 448, 'max_depth': 5, 'learning_rate': 0.0070491679144043026, 'subsample': 0.7979546141994934, 'colsample_bytree': 0.934990330121054, 'min_child_weight': 2, 'gamma': 7.409528604800952, 'reg_alpha': 6.851026596351506, 'reg_lambda': 6.554206533708655}. Best is trial 0 with value: 0.7603754358499965.\n",
            "[I 2025-07-31 14:11:44,007] Trial 7 finished with value: 0.748912340761158 and parameters: {'n_estimators': 160, 'max_depth': 10, 'learning_rate': 0.07531571103254754, 'subsample': 0.90891471194031, 'colsample_bytree': 0.7134419732224021, 'min_child_weight': 3, 'gamma': 5.478121523528385, 'reg_alpha': 5.497331576978507, 'reg_lambda': 8.226613503449695}. Best is trial 0 with value: 0.7603754358499965.\n",
            "[I 2025-07-31 14:11:54,133] Trial 8 finished with value: 0.7656333748661115 and parameters: {'n_estimators': 334, 'max_depth': 7, 'learning_rate': 0.06978950059129234, 'subsample': 0.9582236276047759, 'colsample_bytree': 0.6125323591213262, 'min_child_weight': 18, 'gamma': 3.2501902956240825, 'reg_alpha': 2.6534737911165065, 'reg_lambda': 8.526500255481572}. Best is trial 8 with value: 0.7656333748661115.\n",
            "[I 2025-07-31 14:12:03,599] Trial 9 finished with value: 0.769913897388458 and parameters: {'n_estimators': 222, 'max_depth': 11, 'learning_rate': 0.03328706284986907, 'subsample': 0.7764772166123851, 'colsample_bytree': 0.9294218430176392, 'min_child_weight': 8, 'gamma': 3.3437531922614783, 'reg_alpha': 2.368720880090651, 'reg_lambda': 5.5248114282430185}. Best is trial 9 with value: 0.769913897388458.\n",
            "[I 2025-07-31 14:12:16,425] Trial 10 finished with value: 0.7491787439613526 and parameters: {'n_estimators': 382, 'max_depth': 12, 'learning_rate': 0.012298003162446799, 'subsample': 0.8297850283109067, 'colsample_bytree': 0.8304611343716235, 'min_child_weight': 12, 'gamma': 9.117345192739286, 'reg_alpha': 0.026586274455628, 'reg_lambda': 3.116604796487266}. Best is trial 9 with value: 0.769913897388458.\n",
            "[I 2025-07-31 14:12:27,153] Trial 11 finished with value: 0.7603754358499965 and parameters: {'n_estimators': 360, 'max_depth': 6, 'learning_rate': 0.169588137922177, 'subsample': 0.9996436681347568, 'colsample_bytree': 0.8281658240722326, 'min_child_weight': 15, 'gamma': 2.990385268956408, 'reg_alpha': 2.9557911104692782, 'reg_lambda': 4.867757089241598}. Best is trial 9 with value: 0.769913897388458.\n",
            "[I 2025-07-31 14:12:34,678] Trial 12 finished with value: 0.7709052424784046 and parameters: {'n_estimators': 233, 'max_depth': 12, 'learning_rate': 0.043867082689942834, 'subsample': 0.8421712469759159, 'colsample_bytree': 0.9968822620069723, 'min_child_weight': 8, 'gamma': 3.079418611453622, 'reg_alpha': 3.1805271789230876, 'reg_lambda': 9.990218112366142}. Best is trial 12 with value: 0.7709052424784046.\n",
            "[I 2025-07-31 14:12:44,440] Trial 13 finished with value: 0.7752792997936384 and parameters: {'n_estimators': 231, 'max_depth': 12, 'learning_rate': 0.039402885863253495, 'subsample': 0.8216155612478931, 'colsample_bytree': 0.9931843904830986, 'min_child_weight': 8, 'gamma': 2.097496757207926, 'reg_alpha': 3.6518382964012237, 'reg_lambda': 9.787964521959246}. Best is trial 13 with value: 0.7752792997936384.\n",
            "[I 2025-07-31 14:12:53,000] Trial 14 finished with value: 0.7752792997936384 and parameters: {'n_estimators': 215, 'max_depth': 12, 'learning_rate': 0.14531237834208538, 'subsample': 0.8510972112359951, 'colsample_bytree': 0.9992852113699109, 'min_child_weight': 8, 'gamma': 2.066611073672931, 'reg_alpha': 3.6026109784961444, 'reg_lambda': 9.8423090158646}. Best is trial 13 with value: 0.7752792997936384.\n",
            "[I 2025-07-31 14:13:00,619] Trial 15 finished with value: 0.7749863611565739 and parameters: {'n_estimators': 198, 'max_depth': 10, 'learning_rate': 0.18386646961808809, 'subsample': 0.8729484278287062, 'colsample_bytree': 0.8837444955274146, 'min_child_weight': 10, 'gamma': 0.024240889492559425, 'reg_alpha': 4.447551301285043, 'reg_lambda': 9.786900713056893}. Best is trial 13 with value: 0.7752792997936384.\n",
            "[I 2025-07-31 14:13:06,919] Trial 16 finished with value: 0.771221682337351 and parameters: {'n_estimators': 104, 'max_depth': 9, 'learning_rate': 0.11782733556896437, 'subsample': 0.8909397809131138, 'colsample_bytree': 0.9989070487465047, 'min_child_weight': 6, 'gamma': 1.8057233703012976, 'reg_alpha': 4.122663185068073, 'reg_lambda': 2.0317914899381107}. Best is trial 13 with value: 0.7752792997936384.\n",
            "[I 2025-07-31 14:13:15,643] Trial 17 finished with value: 0.7520687695368002 and parameters: {'n_estimators': 270, 'max_depth': 12, 'learning_rate': 0.11797812075512924, 'subsample': 0.7712618870229713, 'colsample_bytree': 0.7773873774750829, 'min_child_weight': 10, 'gamma': 2.100246128325521, 'reg_alpha': 6.8000092828280625, 'reg_lambda': 9.984110330083377}. Best is trial 13 with value: 0.7752792997936384.\n",
            "[I 2025-07-31 14:13:22,203] Trial 18 finished with value: 0.6719608040538272 and parameters: {'n_estimators': 188, 'max_depth': 11, 'learning_rate': 0.016866784714694903, 'subsample': 0.8507882523091713, 'colsample_bytree': 0.8824673798902919, 'min_child_weight': 14, 'gamma': 4.3385983788615405, 'reg_alpha': 3.825186227314717, 'reg_lambda': 7.586869348319306}. Best is trial 13 with value: 0.7752792997936384.\n",
            "[I 2025-07-31 14:13:27,173] Trial 19 finished with value: 0.0 and parameters: {'n_estimators': 121, 'max_depth': 11, 'learning_rate': 0.005295048401239969, 'subsample': 0.950495793321587, 'colsample_bytree': 0.9593137649437037, 'min_child_weight': 5, 'gamma': 6.541709834344141, 'reg_alpha': 5.725872830452284, 'reg_lambda': 8.99766703737316}. Best is trial 13 with value: 0.7752792997936384.\n",
            "[I 2025-07-31 14:13:39,277] Trial 20 finished with value: 0.7807960832911526 and parameters: {'n_estimators': 331, 'max_depth': 12, 'learning_rate': 0.044937870346192524, 'subsample': 0.8123147562089398, 'colsample_bytree': 0.8457142571652694, 'min_child_weight': 9, 'gamma': 2.263312108372862, 'reg_alpha': 0.6949998922658978, 'reg_lambda': 5.498609911449375}. Best is trial 20 with value: 0.7807960832911526.\n",
            "[I 2025-07-31 14:13:54,589] Trial 21 finished with value: 0.805047200020408 and parameters: {'n_estimators': 331, 'max_depth': 12, 'learning_rate': 0.04928863798376494, 'subsample': 0.8205035108540532, 'colsample_bytree': 0.8536538677559297, 'min_child_weight': 9, 'gamma': 1.995221683854066, 'reg_alpha': 0.24258247905846053, 'reg_lambda': 1.4293969392786963}. Best is trial 21 with value: 0.805047200020408.\n",
            "[I 2025-07-31 14:14:09,611] Trial 22 finished with value: 0.7898029588267386 and parameters: {'n_estimators': 398, 'max_depth': 11, 'learning_rate': 0.04707881406681972, 'subsample': 0.8170287855000692, 'colsample_bytree': 0.8391064542303539, 'min_child_weight': 11, 'gamma': 1.02146627542781, 'reg_alpha': 0.22531245288965382, 'reg_lambda': 0.3839615963497156}. Best is trial 21 with value: 0.805047200020408.\n",
            "[I 2025-07-31 14:14:24,385] Trial 23 finished with value: 0.795644918252018 and parameters: {'n_estimators': 397, 'max_depth': 9, 'learning_rate': 0.0516152483307583, 'subsample': 0.7959471134568674, 'colsample_bytree': 0.8363202525305986, 'min_child_weight': 12, 'gamma': 0.9165366622011802, 'reg_alpha': 0.0010056549404536819, 'reg_lambda': 0.34606802443423246}. Best is trial 21 with value: 0.805047200020408.\n",
            "[I 2025-07-31 14:14:39,053] Trial 24 finished with value: 0.767412093991514 and parameters: {'n_estimators': 408, 'max_depth': 9, 'learning_rate': 0.023224753452269438, 'subsample': 0.7461668370048948, 'colsample_bytree': 0.788769208345268, 'min_child_weight': 15, 'gamma': 0.9415609373117902, 'reg_alpha': 0.06265814313118234, 'reg_lambda': 0.027365011672521256}. Best is trial 21 with value: 0.805047200020408.\n",
            "[I 2025-07-31 14:14:54,049] Trial 25 finished with value: 0.7880671253771557 and parameters: {'n_estimators': 419, 'max_depth': 9, 'learning_rate': 0.05575722959335846, 'subsample': 0.690353923593152, 'colsample_bytree': 0.8533988756148491, 'min_child_weight': 12, 'gamma': 0.38760584055429714, 'reg_alpha': 1.2178161681381106, 'reg_lambda': 1.1218988098104894}. Best is trial 21 with value: 0.805047200020408.\n",
            "[I 2025-07-31 14:15:11,085] Trial 26 finished with value: 0.7865406937685151 and parameters: {'n_estimators': 498, 'max_depth': 10, 'learning_rate': 0.09438864089727474, 'subsample': 0.7938574481904358, 'colsample_bytree': 0.7598197486914673, 'min_child_weight': 13, 'gamma': 1.1766863934710972, 'reg_alpha': 1.9857967332466782, 'reg_lambda': 1.0055258846664288}. Best is trial 21 with value: 0.805047200020408.\n",
            "[I 2025-07-31 14:15:21,750] Trial 27 finished with value: 0.7700074321813453 and parameters: {'n_estimators': 334, 'max_depth': 11, 'learning_rate': 0.051870125120959946, 'subsample': 0.764602425062243, 'colsample_bytree': 0.8130891077059271, 'min_child_weight': 17, 'gamma': 4.511081929981495, 'reg_alpha': 0.8558843846174436, 'reg_lambda': 2.138229438847703}. Best is trial 21 with value: 0.805047200020408.\n",
            "[I 2025-07-31 14:15:35,389] Trial 28 finished with value: 0.7677137531167025 and parameters: {'n_estimators': 370, 'max_depth': 9, 'learning_rate': 0.029845660774589656, 'subsample': 0.7133336412922635, 'colsample_bytree': 0.8619114441648316, 'min_child_weight': 11, 'gamma': 2.6710283433201876, 'reg_alpha': 0.42060600682673044, 'reg_lambda': 0.929790191572049}. Best is trial 21 with value: 0.805047200020408.\n",
            "[I 2025-07-31 14:15:51,198] Trial 29 finished with value: 0.7765870847425314 and parameters: {'n_estimators': 405, 'max_depth': 11, 'learning_rate': 0.01747901355988267, 'subsample': 0.864453079015588, 'colsample_bytree': 0.9124672708519214, 'min_child_weight': 10, 'gamma': 1.3862841675358164, 'reg_alpha': 1.7146757767067689, 'reg_lambda': 2.2217948738724216}. Best is trial 21 with value: 0.805047200020408.\n",
            "[I 2025-07-31 14:16:05,374] Trial 30 finished with value: 0.7620955048686141 and parameters: {'n_estimators': 494, 'max_depth': 3, 'learning_rate': 0.10481975641555598, 'subsample': 0.662149305027278, 'colsample_bytree': 0.7973223460649265, 'min_child_weight': 16, 'gamma': 9.712950860019133, 'reg_alpha': 1.2104813887763775, 'reg_lambda': 2.8860002836521805}. Best is trial 21 with value: 0.805047200020408.\n",
            "[I 2025-07-31 14:16:19,957] Trial 31 finished with value: 0.7772296544035674 and parameters: {'n_estimators': 416, 'max_depth': 9, 'learning_rate': 0.05739075948417102, 'subsample': 0.6044928446223226, 'colsample_bytree': 0.8572406586503482, 'min_child_weight': 12, 'gamma': 0.2375212410237142, 'reg_alpha': 1.1546920647377943, 'reg_lambda': 0.9464922867837686}. Best is trial 21 with value: 0.805047200020408.\n",
            "[I 2025-07-31 14:16:36,646] Trial 32 finished with value: 0.7772296544035674 and parameters: {'n_estimators': 437, 'max_depth': 8, 'learning_rate': 0.0522898642648112, 'subsample': 0.6907475938287411, 'colsample_bytree': 0.8146519173897921, 'min_child_weight': 14, 'gamma': 0.8322296295185594, 'reg_alpha': 0.6272003588041508, 'reg_lambda': 1.3041863544393237}. Best is trial 21 with value: 0.805047200020408.\n",
            "[I 2025-07-31 14:16:53,040] Trial 33 finished with value: 0.7720878104319363 and parameters: {'n_estimators': 461, 'max_depth': 7, 'learning_rate': 0.028271627587781265, 'subsample': 0.733895464730601, 'colsample_bytree': 0.87082304949123, 'min_child_weight': 11, 'gamma': 0.01607046047123173, 'reg_alpha': 1.726992019624425, 'reg_lambda': 1.5664848017728303}. Best is trial 21 with value: 0.805047200020408.\n",
            "[I 2025-07-31 14:17:07,027] Trial 34 finished with value: 0.7829650845608292 and parameters: {'n_estimators': 383, 'max_depth': 8, 'learning_rate': 0.042068357611282525, 'subsample': 0.712884837126274, 'colsample_bytree': 0.9062923729570521, 'min_child_weight': 13, 'gamma': 1.546478910239081, 'reg_alpha': 0.011252491675286497, 'reg_lambda': 0.37814032042268997}. Best is trial 21 with value: 0.805047200020408.\n",
            "[I 2025-07-31 14:17:21,864] Trial 35 finished with value: 0.8281430070416302 and parameters: {'n_estimators': 350, 'max_depth': 10, 'learning_rate': 0.08391347801573937, 'subsample': 0.6658026590882786, 'colsample_bytree': 0.7329128608233834, 'min_child_weight': 6, 'gamma': 0.5845441615232059, 'reg_alpha': 1.3783694892187972, 'reg_lambda': 3.6969249359679535}. Best is trial 35 with value: 0.8281430070416302.\n",
            "[I 2025-07-31 14:17:32,426] Trial 36 finished with value: 0.7765870847425314 and parameters: {'n_estimators': 312, 'max_depth': 10, 'learning_rate': 0.0941710160996896, 'subsample': 0.6670463128886712, 'colsample_bytree': 0.7224815677347606, 'min_child_weight': 6, 'gamma': 3.8588470006193845, 'reg_alpha': 2.2949946392779736, 'reg_lambda': 4.104478268988753}. Best is trial 35 with value: 0.8281430070416302.\n",
            "[I 2025-07-31 14:17:44,074] Trial 37 finished with value: 0.7657408382551768 and parameters: {'n_estimators': 358, 'max_depth': 11, 'learning_rate': 0.06975507752814894, 'subsample': 0.7553413057567037, 'colsample_bytree': 0.6763810997328326, 'min_child_weight': 6, 'gamma': 0.8679481240273267, 'reg_alpha': 8.475121031477588, 'reg_lambda': 2.961938463715975}. Best is trial 35 with value: 0.8281430070416302.\n",
            "[I 2025-07-31 14:17:55,899] Trial 38 finished with value: 0.8310671936758893 and parameters: {'n_estimators': 269, 'max_depth': 10, 'learning_rate': 0.08628386987690442, 'subsample': 0.7822037684782159, 'colsample_bytree': 0.7577275559684591, 'min_child_weight': 1, 'gamma': 1.446912072898143, 'reg_alpha': 0.5429187177159522, 'reg_lambda': 3.787904447364084}. Best is trial 38 with value: 0.8310671936758893.\n",
            "[I 2025-07-31 14:18:06,656] Trial 39 finished with value: 0.8083668874461714 and parameters: {'n_estimators': 261, 'max_depth': 10, 'learning_rate': 0.08261839556261755, 'subsample': 0.7842718728872902, 'colsample_bytree': 0.7479005609473315, 'min_child_weight': 1, 'gamma': 1.6226434368868605, 'reg_alpha': 1.5823170844580063, 'reg_lambda': 3.864173316022491}. Best is trial 38 with value: 0.8310671936758893.\n",
            "[I 2025-07-31 14:18:16,913] Trial 40 finished with value: 0.7852904458279462 and parameters: {'n_estimators': 267, 'max_depth': 10, 'learning_rate': 0.08200932528467075, 'subsample': 0.6476362792113651, 'colsample_bytree': 0.683521623300051, 'min_child_weight': 1, 'gamma': 2.649401790986915, 'reg_alpha': 1.5811433802449788, 'reg_lambda': 4.094796371215237}. Best is trial 38 with value: 0.8310671936758893.\n",
            "[I 2025-07-31 14:18:30,331] Trial 41 finished with value: 0.8318515074013796 and parameters: {'n_estimators': 260, 'max_depth': 8, 'learning_rate': 0.0657982276406484, 'subsample': 0.7845218849947364, 'colsample_bytree': 0.7472485284855487, 'min_child_weight': 3, 'gamma': 0.679654571650455, 'reg_alpha': 0.9420166716461378, 'reg_lambda': 3.593357343307511}. Best is trial 41 with value: 0.8318515074013796.\n",
            "[I 2025-07-31 14:18:42,157] Trial 42 finished with value: 0.8250549961547403 and parameters: {'n_estimators': 260, 'max_depth': 8, 'learning_rate': 0.06962624520922123, 'subsample': 0.7763295704664449, 'colsample_bytree': 0.7460661647702503, 'min_child_weight': 3, 'gamma': 1.4636403161961158, 'reg_alpha': 0.811776026633189, 'reg_lambda': 3.4761593588068123}. Best is trial 41 with value: 0.8318515074013796.\n",
            "[I 2025-07-31 14:18:52,632] Trial 43 finished with value: 0.8285332570243055 and parameters: {'n_estimators': 257, 'max_depth': 6, 'learning_rate': 0.1385942727930596, 'subsample': 0.7835115899482799, 'colsample_bytree': 0.7451503134045123, 'min_child_weight': 3, 'gamma': 1.5538611751775124, 'reg_alpha': 0.9549847177297074, 'reg_lambda': 4.636856432920169}. Best is trial 41 with value: 0.8318515074013796.\n",
            "[I 2025-07-31 14:19:04,177] Trial 44 finished with value: 0.8295153542110064 and parameters: {'n_estimators': 288, 'max_depth': 6, 'learning_rate': 0.14863367456371981, 'subsample': 0.730428954861988, 'colsample_bytree': 0.7045178233897635, 'min_child_weight': 3, 'gamma': 0.5641779746844567, 'reg_alpha': 2.2229180283879453, 'reg_lambda': 4.7637130932714085}. Best is trial 41 with value: 0.8318515074013796.\n",
            "[I 2025-07-31 14:19:14,376] Trial 45 finished with value: 0.8219058802082495 and parameters: {'n_estimators': 293, 'max_depth': 5, 'learning_rate': 0.14695835267677376, 'subsample': 0.7257279533098785, 'colsample_bytree': 0.7016613589425632, 'min_child_weight': 3, 'gamma': 0.5083948301335226, 'reg_alpha': 2.6677258937404313, 'reg_lambda': 4.9242251750948}. Best is trial 41 with value: 0.8318515074013796.\n",
            "[I 2025-07-31 14:19:24,387] Trial 46 finished with value: 0.7648177613321 and parameters: {'n_estimators': 308, 'max_depth': 6, 'learning_rate': 0.14559005879467482, 'subsample': 0.7478642206475083, 'colsample_bytree': 0.6581419990179821, 'min_child_weight': 4, 'gamma': 8.098660386543362, 'reg_alpha': 2.1450316335724184, 'reg_lambda': 4.517851644358441}. Best is trial 41 with value: 0.8318515074013796.\n",
            "[I 2025-07-31 14:19:33,234] Trial 47 finished with value: 0.78159195650081 and parameters: {'n_estimators': 244, 'max_depth': 6, 'learning_rate': 0.19528122297139472, 'subsample': 0.7085842590062131, 'colsample_bytree': 0.7206258624058487, 'min_child_weight': 2, 'gamma': 5.95658983814654, 'reg_alpha': 1.2262763730326531, 'reg_lambda': 5.922612847148592}. Best is trial 41 with value: 0.8318515074013796.\n",
            "[I 2025-07-31 14:19:45,028] Trial 48 finished with value: 0.8268010412495366 and parameters: {'n_estimators': 290, 'max_depth': 5, 'learning_rate': 0.12263926755761426, 'subsample': 0.6200024424770127, 'colsample_bytree': 0.7689246476892737, 'min_child_weight': 2, 'gamma': 0.5505192660957283, 'reg_alpha': 3.249004690345026, 'reg_lambda': 5.353064790728956}. Best is trial 41 with value: 0.8318515074013796.\n",
            "[I 2025-07-31 14:19:51,509] Trial 49 finished with value: 0.7795550156706843 and parameters: {'n_estimators': 214, 'max_depth': 7, 'learning_rate': 0.1590246530592984, 'subsample': 0.6812016623124316, 'colsample_bytree': 0.7328846370285359, 'min_child_weight': 5, 'gamma': 2.6101865937470756, 'reg_alpha': 2.459739992442662, 'reg_lambda': 3.528853611652006}. Best is trial 41 with value: 0.8318515074013796.\n"
          ]
        }
      ]
    },
    {
      "cell_type": "code",
      "source": [
        "best_params_xgb['n_estimators'] = 299\n",
        "best_params_xgb['max_depth'] = 3\n",
        "best_params_xgb['learning_rate']=0.049999\n",
        "best_params_xgb['min_child_weight'] = 5"
      ],
      "metadata": {
        "id": "ztVxdpQo4GMM"
      },
      "execution_count": null,
      "outputs": []
    },
    {
      "cell_type": "code",
      "source": [
        "best_params_xgb = {'n_estimators': 260, 'max_depth': 8, 'learning_rate': 0.0657982276406484, 'subsample': 0.7845218849947364, 'colsample_bytree': 0.7472485284855487, 'min_child_weight': 3, 'gamma': 0.679654571650455, 'reg_alpha': 0.9420166716461378, 'reg_lambda': 3.593357343307511}"
      ],
      "metadata": {
        "id": "9xuUCtkP6O9X"
      },
      "execution_count": null,
      "outputs": []
    },
    {
      "cell_type": "code",
      "source": [
        "best_params_xgb"
      ],
      "metadata": {
        "colab": {
          "base_uri": "https://localhost:8080/"
        },
        "id": "4RYmw43VD_vq",
        "outputId": "9c24fada-8683-4e21-ac8e-7ec4e9594592"
      },
      "execution_count": null,
      "outputs": [
        {
          "output_type": "execute_result",
          "data": {
            "text/plain": [
              "{'n_estimators': 299,\n",
              " 'max_depth': 3,\n",
              " 'learning_rate': 0.049999,\n",
              " 'subsample': 0.7845218849947364,\n",
              " 'colsample_bytree': 0.7472485284855487,\n",
              " 'min_child_weight': 5,\n",
              " 'gamma': 0.679654571650455,\n",
              " 'reg_alpha': 0.9420166716461378,\n",
              " 'reg_lambda': 3.593357343307511}"
            ]
          },
          "metadata": {},
          "execution_count": 97
        }
      ]
    },
    {
      "cell_type": "code",
      "source": [
        "from xgboost import XGBClassifier\n",
        "from sklearn.metrics import classification_report, confusion_matrix\n",
        "\n",
        "# Train final model\n",
        "final_xgb = XGBClassifier(**best_params_xgb)\n",
        "final_xgb.fit(x_train, y_train)\n",
        "\n",
        "y_pred = final_xgb.predict(x_train)\n",
        "\n",
        "# Evaluate\n",
        "print(classification_report(y_train, y_pred))\n",
        "print(confusion_matrix(y_train, y_pred))\n",
        "\n",
        "\n",
        "# Predict on test data\n",
        "y_pred = final_xgb.predict(x_test)\n",
        "\n",
        "# Evaluate\n",
        "print(classification_report(y_test, y_pred))\n",
        "print(confusion_matrix(y_test, y_pred))"
      ],
      "metadata": {
        "colab": {
          "base_uri": "https://localhost:8080/"
        },
        "id": "ggf3bTy9RRwW",
        "outputId": "ca6bba88-4de3-4498-afde-b3e15709a584"
      },
      "execution_count": null,
      "outputs": [
        {
          "output_type": "stream",
          "name": "stdout",
          "text": [
            "              precision    recall  f1-score   support\n",
            "\n",
            "         0.0       1.00      1.00      1.00    226596\n",
            "         1.0       0.97      0.82      0.89       384\n",
            "\n",
            "    accuracy                           1.00    226980\n",
            "   macro avg       0.98      0.91      0.94    226980\n",
            "weighted avg       1.00      1.00      1.00    226980\n",
            "\n",
            "[[226586     10]\n",
            " [    69    315]]\n",
            "              precision    recall  f1-score   support\n",
            "\n",
            "           0       1.00      1.00      1.00     56657\n",
            "           1       0.86      0.85      0.86        89\n",
            "\n",
            "    accuracy                           1.00     56746\n",
            "   macro avg       0.93      0.93      0.93     56746\n",
            "weighted avg       1.00      1.00      1.00     56746\n",
            "\n",
            "[[56645    12]\n",
            " [   13    76]]\n"
          ]
        }
      ]
    },
    {
      "cell_type": "code",
      "source": [],
      "metadata": {
        "id": "Dgxhtu8D6y2J"
      },
      "execution_count": null,
      "outputs": []
    },
    {
      "cell_type": "code",
      "source": [],
      "metadata": {
        "id": "H0h6dmvV7M_o"
      },
      "execution_count": null,
      "outputs": []
    },
    {
      "cell_type": "code",
      "source": [],
      "metadata": {
        "id": "PJkVZUWD7Gho"
      },
      "execution_count": null,
      "outputs": []
    },
    {
      "cell_type": "code",
      "source": [],
      "metadata": {
        "id": "Bb7n9M547T83"
      },
      "execution_count": null,
      "outputs": []
    },
    {
      "cell_type": "code",
      "source": [],
      "metadata": {
        "id": "77pMwbUE7XFn"
      },
      "execution_count": null,
      "outputs": []
    },
    {
      "cell_type": "code",
      "source": [],
      "metadata": {
        "id": "g8Dh9lihIPp9"
      },
      "execution_count": null,
      "outputs": []
    },
    {
      "cell_type": "code",
      "source": [],
      "metadata": {
        "id": "WaRcOnPS7aHU"
      },
      "execution_count": null,
      "outputs": []
    },
    {
      "cell_type": "code",
      "source": [],
      "metadata": {
        "id": "JRUvSW7b7h0h"
      },
      "execution_count": null,
      "outputs": []
    },
    {
      "cell_type": "code",
      "source": [],
      "metadata": {
        "id": "Zb_rnMx18Q08"
      },
      "execution_count": null,
      "outputs": []
    },
    {
      "cell_type": "code",
      "source": [],
      "metadata": {
        "id": "_IB1o4FTHZmA"
      },
      "execution_count": null,
      "outputs": []
    },
    {
      "cell_type": "code",
      "source": [],
      "metadata": {
        "id": "Td8Pq8yN7-78"
      },
      "execution_count": null,
      "outputs": []
    },
    {
      "cell_type": "code",
      "source": [],
      "metadata": {
        "id": "uTO8ksfJ8E2A"
      },
      "execution_count": null,
      "outputs": []
    },
    {
      "cell_type": "code",
      "source": [],
      "metadata": {
        "id": "NwWKXzTERHiT"
      },
      "execution_count": null,
      "outputs": []
    }
  ]
}